{
  "nbformat": 4,
  "nbformat_minor": 5,
  "metadata": {
    "kernelspec": {
      "name": "python3",
      "display_name": "Python 3"
    },
    "colab": {
      "name": "training_notebook.ipynb",
      "provenance": [],
      "include_colab_link": true
    },
    "accelerator": "GPU",
    "language_info": {
      "name": "python"
    }
  },
  "cells": [
    {
      "cell_type": "markdown",
      "metadata": {
        "id": "view-in-github",
        "colab_type": "text"
      },
      "source": [
        "<a href=\"https://colab.research.google.com/github/DiegoRenner/Game-Sim-ML-in-Finances-/blob/main/full_tf_model/training_notebook.ipynb\" target=\"_parent\"><img src=\"https://colab.research.google.com/assets/colab-badge.svg\" alt=\"Open In Colab\"/></a>"
      ]
    },
    {
      "cell_type": "code",
      "metadata": {
        "id": "pCHCXWVeVQJ6",
        "colab": {
          "base_uri": "https://localhost:8080/"
        },
        "outputId": "88de7daf-f320-4b18-87c2-b7391b06bea7"
      },
      "source": [
        "!rm -rf Game-Sim-ML-in-Finances-\n",
        "!rm -rf log\n",
        "!git clone https://github.com/DiegoRenner/Game-Sim-ML-in-Finances-"
      ],
      "id": "pCHCXWVeVQJ6",
      "execution_count": 1,
      "outputs": [
        {
          "output_type": "stream",
          "text": [
            "Cloning into 'Game-Sim-ML-in-Finances-'...\n",
            "remote: Enumerating objects: 231, done.\u001b[K\n",
            "remote: Counting objects: 100% (231/231), done.\u001b[K\n",
            "remote: Compressing objects: 100% (157/157), done.\u001b[K\n",
            "remote: Total 231 (delta 128), reused 156 (delta 70), pack-reused 0\u001b[K\n",
            "Receiving objects: 100% (231/231), 3.30 MiB | 5.57 MiB/s, done.\n",
            "Resolving deltas: 100% (128/128), done.\n"
          ],
          "name": "stdout"
        }
      ]
    },
    {
      "cell_type": "code",
      "metadata": {
        "id": "g_dFEitrJe85"
      },
      "source": [
        "import sys\n",
        "sys.path.insert(0,'/content/Game-Sim-ML-in-Finances-/full_tf_model')"
      ],
      "id": "g_dFEitrJe85",
      "execution_count": 2,
      "outputs": []
    },
    {
      "cell_type": "code",
      "metadata": {
        "id": "jbUs9AyoZgL_",
        "outputId": "7a6d9019-a163-47bb-fa7a-ef7144846ea3",
        "colab": {
          "base_uri": "https://localhost:8080/"
        }
      },
      "source": [
        "!pip install quandl"
      ],
      "id": "jbUs9AyoZgL_",
      "execution_count": 3,
      "outputs": [
        {
          "output_type": "stream",
          "text": [
            "Requirement already satisfied: quandl in /usr/local/lib/python3.7/dist-packages (3.6.1)\n",
            "Requirement already satisfied: pandas>=0.14 in /usr/local/lib/python3.7/dist-packages (from quandl) (1.1.5)\n",
            "Requirement already satisfied: six in /usr/local/lib/python3.7/dist-packages (from quandl) (1.15.0)\n",
            "Requirement already satisfied: requests>=2.7.0 in /usr/local/lib/python3.7/dist-packages (from quandl) (2.23.0)\n",
            "Requirement already satisfied: more-itertools in /usr/local/lib/python3.7/dist-packages (from quandl) (8.7.0)\n",
            "Requirement already satisfied: python-dateutil in /usr/local/lib/python3.7/dist-packages (from quandl) (2.8.1)\n",
            "Requirement already satisfied: numpy>=1.8 in /usr/local/lib/python3.7/dist-packages (from quandl) (1.19.5)\n",
            "Requirement already satisfied: inflection>=0.3.1 in /usr/local/lib/python3.7/dist-packages (from quandl) (0.5.1)\n",
            "Requirement already satisfied: pytz>=2017.2 in /usr/local/lib/python3.7/dist-packages (from pandas>=0.14->quandl) (2018.9)\n",
            "Requirement already satisfied: urllib3!=1.25.0,!=1.25.1,<1.26,>=1.21.1 in /usr/local/lib/python3.7/dist-packages (from requests>=2.7.0->quandl) (1.24.3)\n",
            "Requirement already satisfied: idna<3,>=2.5 in /usr/local/lib/python3.7/dist-packages (from requests>=2.7.0->quandl) (2.10)\n",
            "Requirement already satisfied: chardet<4,>=3.0.2 in /usr/local/lib/python3.7/dist-packages (from requests>=2.7.0->quandl) (3.0.4)\n",
            "Requirement already satisfied: certifi>=2017.4.17 in /usr/local/lib/python3.7/dist-packages (from requests>=2.7.0->quandl) (2020.12.5)\n"
          ],
          "name": "stdout"
        }
      ]
    },
    {
      "cell_type": "code",
      "metadata": {
        "colab": {
          "base_uri": "https://localhost:8080/"
        },
        "id": "OcwOqKPw86fL",
        "outputId": "d296afb3-6796-464f-a830-dd261902eb46"
      },
      "source": [
        "from env_total_v2 import Game\n",
        "from utils import get_data, batch_from_data\n",
        "from train import train\n",
        "\n",
        "\n",
        "# Hyperparameters\n",
        "game_params = {\n",
        "    \"end_time\": 11,  # number of steps in each game\n",
        "    \"agent_num\": 2,\n",
        "}\n",
        "\n",
        "training_params = {\n",
        "    \"epochs_total\": 20,  # number of times each agent is trained\n",
        "    \"population_size\": 10,  # number of different weights compared\n",
        "    \"max_iterations\": 20,  # number of iterations optimization algorithm runs\n",
        "    \"log_path\": \"log/game/\",\n",
        "    \"save\": False,\n",
        "}\n",
        "\n",
        "batch_params = {\n",
        "    \"batch_size\": 5,  # number of epochs an agent is trained per training\n",
        "    \"endow_cash\": 500,\n",
        "    \"endow_stock\": 5,\n",
        "    \"horizon\": 20,\n",
        "    \"init_price\": 100,\n",
        "    \"sigma\": 0.2,\n",
        "}\n",
        "\n",
        "seeds = [23462, 192, 3817, 9732, 4]\n",
        "\n",
        "log_params = {**game_params, **training_params, **batch_params}\n",
        "int_data, dy_data = get_data()\n",
        "\n",
        "game = Game(**game_params)\n",
        "batch = batch_from_data(\n",
        "    int_data, dy_data, game.agent_num, game.end_time, seeds, **batch_params\n",
        ")\n",
        "\n",
        "# Dummy pass to ensure initialization\n",
        "x = batch[0]\n",
        "_ = game(x)\n",
        "\n",
        "train(game, batch, **training_params, log_params=log_params)"
      ],
      "id": "OcwOqKPw86fL",
      "execution_count": 4,
      "outputs": [
        {
          "output_type": "stream",
          "text": [
            "iteration 1:   0%|          | 0/10 [00:00<?, ?population_element/s]"
          ],
          "name": "stderr"
        },
        {
          "output_type": "stream",
          "text": [
            "---------------------------------------\n",
            "Training output:\n",
            "~~~~~~~~~~~~~~~~~~~~~~~~~~~~~~~~~~~~~~~~~~~~~~~~\n",
            "EPOCHS_TOTAL: 0\n",
            "~~~~~~~~~~~~~~~~~~~~~~~~~~~~~~~~~~~~~~~~~~~~~~~~\n",
            "####################### Training agent: 0 ######################\n"
          ],
          "name": "stdout"
        },
        {
          "output_type": "stream",
          "text": [
            "iteration 1: 100%|██████████| 10/10 [00:08<00:00,  1.24population_element/s]\n",
            "iteration 2: 100%|██████████| 10/10 [00:08<00:00,  1.22population_element/s]\n",
            "iteration 3: 100%|██████████| 10/10 [00:08<00:00,  1.25population_element/s]\n",
            "iteration 4: 100%|██████████| 10/10 [00:08<00:00,  1.23population_element/s]\n",
            "iteration 5: 100%|██████████| 10/10 [00:07<00:00,  1.25population_element/s]\n",
            "iteration 6: 100%|██████████| 10/10 [00:07<00:00,  1.26population_element/s]\n",
            "iteration 7: 100%|██████████| 10/10 [00:07<00:00,  1.25population_element/s]\n",
            "iteration 8: 100%|██████████| 10/10 [00:07<00:00,  1.26population_element/s]\n",
            "iteration 9: 100%|██████████| 10/10 [00:08<00:00,  1.22population_element/s]\n",
            "iteration 10: 100%|██████████| 10/10 [00:07<00:00,  1.25population_element/s]\n",
            "iteration 11: 100%|██████████| 10/10 [00:08<00:00,  1.24population_element/s]\n",
            "iteration 12: 100%|██████████| 10/10 [00:08<00:00,  1.24population_element/s]\n",
            "iteration 13: 100%|██████████| 10/10 [00:07<00:00,  1.25population_element/s]\n",
            "iteration 14: 100%|██████████| 10/10 [00:07<00:00,  1.26population_element/s]\n",
            "iteration 15: 100%|██████████| 10/10 [00:07<00:00,  1.26population_element/s]\n",
            "iteration 16: 100%|██████████| 10/10 [00:07<00:00,  1.25population_element/s]\n",
            "iteration 17: 100%|██████████| 10/10 [00:07<00:00,  1.27population_element/s]\n",
            "iteration 18: 100%|██████████| 10/10 [00:07<00:00,  1.25population_element/s]\n",
            "iteration 19: 100%|██████████| 10/10 [00:08<00:00,  1.25population_element/s]\n",
            "iteration 20: 100%|██████████| 10/10 [00:07<00:00,  1.25population_element/s]\n",
            "iteration 21: 100%|██████████| 10/10 [00:07<00:00,  1.26population_element/s]\n",
            "iteration 1:   0%|          | 0/10 [00:00<?, ?population_element/s]"
          ],
          "name": "stderr"
        },
        {
          "output_type": "stream",
          "text": [
            "####################### Training agent: 1 ######################\n"
          ],
          "name": "stdout"
        },
        {
          "output_type": "stream",
          "text": [
            "iteration 1: 100%|██████████| 10/10 [00:08<00:00,  1.25population_element/s]\n",
            "iteration 2: 100%|██████████| 10/10 [00:07<00:00,  1.26population_element/s]\n",
            "iteration 3: 100%|██████████| 10/10 [00:07<00:00,  1.26population_element/s]\n",
            "iteration 4: 100%|██████████| 10/10 [00:07<00:00,  1.26population_element/s]\n",
            "iteration 5: 100%|██████████| 10/10 [00:07<00:00,  1.25population_element/s]\n",
            "iteration 6: 100%|██████████| 10/10 [00:08<00:00,  1.24population_element/s]\n",
            "iteration 7: 100%|██████████| 10/10 [00:07<00:00,  1.26population_element/s]\n",
            "iteration 8: 100%|██████████| 10/10 [00:07<00:00,  1.27population_element/s]\n",
            "iteration 9: 100%|██████████| 10/10 [00:07<00:00,  1.26population_element/s]\n",
            "iteration 10: 100%|██████████| 10/10 [00:07<00:00,  1.26population_element/s]\n",
            "iteration 11: 100%|██████████| 10/10 [00:08<00:00,  1.24population_element/s]\n",
            "iteration 12: 100%|██████████| 10/10 [00:07<00:00,  1.27population_element/s]\n",
            "iteration 13: 100%|██████████| 10/10 [00:07<00:00,  1.26population_element/s]\n",
            "iteration 14: 100%|██████████| 10/10 [00:07<00:00,  1.26population_element/s]\n",
            "iteration 15: 100%|██████████| 10/10 [00:07<00:00,  1.25population_element/s]\n",
            "iteration 16: 100%|██████████| 10/10 [00:07<00:00,  1.25population_element/s]\n",
            "iteration 17: 100%|██████████| 10/10 [00:07<00:00,  1.26population_element/s]\n",
            "iteration 18: 100%|██████████| 10/10 [00:08<00:00,  1.25population_element/s]\n",
            "iteration 19: 100%|██████████| 10/10 [00:07<00:00,  1.25population_element/s]\n",
            "iteration 20: 100%|██████████| 10/10 [00:07<00:00,  1.26population_element/s]\n",
            "iteration 21: 100%|██████████| 10/10 [00:08<00:00,  1.24population_element/s]\n",
            "iteration 1:   0%|          | 0/10 [00:00<?, ?population_element/s]"
          ],
          "name": "stderr"
        },
        {
          "output_type": "stream",
          "text": [
            "~~~~~~~~~~~~~~~~~~~~~~~~~~~~~~~~~~~~~~~~~~~~~~~~\n",
            "EPOCHS_TOTAL: 1\n",
            "~~~~~~~~~~~~~~~~~~~~~~~~~~~~~~~~~~~~~~~~~~~~~~~~\n",
            "####################### Training agent: 0 ######################\n"
          ],
          "name": "stdout"
        },
        {
          "output_type": "stream",
          "text": [
            "iteration 1: 100%|██████████| 10/10 [00:08<00:00,  1.25population_element/s]\n",
            "iteration 2: 100%|██████████| 10/10 [00:07<00:00,  1.25population_element/s]\n",
            "iteration 3: 100%|██████████| 10/10 [00:07<00:00,  1.25population_element/s]\n",
            "iteration 4: 100%|██████████| 10/10 [00:08<00:00,  1.25population_element/s]\n",
            "iteration 5: 100%|██████████| 10/10 [00:07<00:00,  1.26population_element/s]\n",
            "iteration 6: 100%|██████████| 10/10 [00:08<00:00,  1.24population_element/s]\n",
            "iteration 7: 100%|██████████| 10/10 [00:07<00:00,  1.25population_element/s]\n",
            "iteration 8: 100%|██████████| 10/10 [00:07<00:00,  1.26population_element/s]\n",
            "iteration 9: 100%|██████████| 10/10 [00:07<00:00,  1.26population_element/s]\n",
            "iteration 10: 100%|██████████| 10/10 [00:08<00:00,  1.25population_element/s]\n",
            "iteration 11: 100%|██████████| 10/10 [00:07<00:00,  1.27population_element/s]\n",
            "iteration 12: 100%|██████████| 10/10 [00:07<00:00,  1.26population_element/s]\n",
            "iteration 13: 100%|██████████| 10/10 [00:07<00:00,  1.26population_element/s]\n",
            "iteration 14: 100%|██████████| 10/10 [00:08<00:00,  1.25population_element/s]\n",
            "iteration 15: 100%|██████████| 10/10 [00:07<00:00,  1.25population_element/s]\n",
            "iteration 16: 100%|██████████| 10/10 [00:07<00:00,  1.26population_element/s]\n",
            "iteration 17: 100%|██████████| 10/10 [00:07<00:00,  1.26population_element/s]\n",
            "iteration 18: 100%|██████████| 10/10 [00:08<00:00,  1.24population_element/s]\n",
            "iteration 19: 100%|██████████| 10/10 [00:07<00:00,  1.26population_element/s]\n",
            "iteration 20: 100%|██████████| 10/10 [00:08<00:00,  1.24population_element/s]\n",
            "iteration 21: 100%|██████████| 10/10 [00:08<00:00,  1.24population_element/s]\n",
            "/content/Game-Sim-ML-in-Finances-/full_tf_model/train.py:112: RuntimeWarning: Mean of empty slice\n",
            "  avg_prices.append(np.nanmean(game.trade_prices))\n",
            "iteration 1:   0%|          | 0/10 [00:00<?, ?population_element/s]"
          ],
          "name": "stderr"
        },
        {
          "output_type": "stream",
          "text": [
            "####################### Training agent: 1 ######################\n"
          ],
          "name": "stdout"
        },
        {
          "output_type": "stream",
          "text": [
            "iteration 1: 100%|██████████| 10/10 [00:08<00:00,  1.25population_element/s]\n",
            "iteration 2: 100%|██████████| 10/10 [00:08<00:00,  1.25population_element/s]\n",
            "iteration 3: 100%|██████████| 10/10 [00:07<00:00,  1.26population_element/s]\n",
            "iteration 4: 100%|██████████| 10/10 [00:07<00:00,  1.26population_element/s]\n",
            "iteration 5: 100%|██████████| 10/10 [00:07<00:00,  1.26population_element/s]\n",
            "iteration 6: 100%|██████████| 10/10 [00:07<00:00,  1.25population_element/s]\n",
            "iteration 7: 100%|██████████| 10/10 [00:08<00:00,  1.25population_element/s]\n",
            "iteration 8: 100%|██████████| 10/10 [00:08<00:00,  1.24population_element/s]\n",
            "iteration 9: 100%|██████████| 10/10 [00:08<00:00,  1.24population_element/s]\n",
            "iteration 10: 100%|██████████| 10/10 [00:08<00:00,  1.25population_element/s]\n",
            "iteration 11: 100%|██████████| 10/10 [00:07<00:00,  1.26population_element/s]\n",
            "iteration 12: 100%|██████████| 10/10 [00:08<00:00,  1.25population_element/s]\n",
            "iteration 13: 100%|██████████| 10/10 [00:07<00:00,  1.26population_element/s]\n",
            "iteration 14: 100%|██████████| 10/10 [00:07<00:00,  1.26population_element/s]\n",
            "iteration 15: 100%|██████████| 10/10 [00:08<00:00,  1.25population_element/s]\n",
            "iteration 16: 100%|██████████| 10/10 [00:08<00:00,  1.21population_element/s]\n",
            "iteration 17: 100%|██████████| 10/10 [00:08<00:00,  1.25population_element/s]\n",
            "iteration 18: 100%|██████████| 10/10 [00:08<00:00,  1.24population_element/s]\n",
            "iteration 19: 100%|██████████| 10/10 [00:08<00:00,  1.22population_element/s]\n",
            "iteration 20: 100%|██████████| 10/10 [00:08<00:00,  1.24population_element/s]\n",
            "iteration 21: 100%|██████████| 10/10 [00:08<00:00,  1.25population_element/s]\n",
            "iteration 1:   0%|          | 0/10 [00:00<?, ?population_element/s]"
          ],
          "name": "stderr"
        },
        {
          "output_type": "stream",
          "text": [
            "~~~~~~~~~~~~~~~~~~~~~~~~~~~~~~~~~~~~~~~~~~~~~~~~\n",
            "EPOCHS_TOTAL: 2\n",
            "~~~~~~~~~~~~~~~~~~~~~~~~~~~~~~~~~~~~~~~~~~~~~~~~\n",
            "####################### Training agent: 0 ######################\n"
          ],
          "name": "stdout"
        },
        {
          "output_type": "stream",
          "text": [
            "iteration 1: 100%|██████████| 10/10 [00:08<00:00,  1.24population_element/s]\n",
            "iteration 2: 100%|██████████| 10/10 [00:08<00:00,  1.23population_element/s]\n",
            "iteration 3: 100%|██████████| 10/10 [00:08<00:00,  1.22population_element/s]\n",
            "iteration 4: 100%|██████████| 10/10 [00:08<00:00,  1.24population_element/s]\n",
            "iteration 5: 100%|██████████| 10/10 [00:08<00:00,  1.24population_element/s]\n",
            "iteration 6: 100%|██████████| 10/10 [00:08<00:00,  1.25population_element/s]\n",
            "iteration 7: 100%|██████████| 10/10 [00:07<00:00,  1.25population_element/s]\n",
            "iteration 8: 100%|██████████| 10/10 [00:08<00:00,  1.24population_element/s]\n",
            "iteration 9: 100%|██████████| 10/10 [00:08<00:00,  1.24population_element/s]\n",
            "iteration 10: 100%|██████████| 10/10 [00:08<00:00,  1.24population_element/s]\n",
            "iteration 11: 100%|██████████| 10/10 [00:08<00:00,  1.25population_element/s]\n",
            "iteration 12: 100%|██████████| 10/10 [00:07<00:00,  1.26population_element/s]\n",
            "iteration 13: 100%|██████████| 10/10 [00:08<00:00,  1.24population_element/s]\n",
            "iteration 14: 100%|██████████| 10/10 [00:08<00:00,  1.25population_element/s]\n",
            "iteration 15: 100%|██████████| 10/10 [00:07<00:00,  1.26population_element/s]\n",
            "iteration 16: 100%|██████████| 10/10 [00:08<00:00,  1.25population_element/s]\n",
            "iteration 17: 100%|██████████| 10/10 [00:08<00:00,  1.24population_element/s]\n",
            "iteration 18: 100%|██████████| 10/10 [00:08<00:00,  1.24population_element/s]\n",
            "iteration 19: 100%|██████████| 10/10 [00:08<00:00,  1.24population_element/s]\n",
            "iteration 20: 100%|██████████| 10/10 [00:08<00:00,  1.25population_element/s]\n",
            "iteration 21: 100%|██████████| 10/10 [00:07<00:00,  1.25population_element/s]\n",
            "iteration 1:   0%|          | 0/10 [00:00<?, ?population_element/s]"
          ],
          "name": "stderr"
        },
        {
          "output_type": "stream",
          "text": [
            "####################### Training agent: 1 ######################\n"
          ],
          "name": "stdout"
        },
        {
          "output_type": "stream",
          "text": [
            "iteration 1: 100%|██████████| 10/10 [00:07<00:00,  1.26population_element/s]\n",
            "iteration 2: 100%|██████████| 10/10 [00:08<00:00,  1.25population_element/s]\n",
            "iteration 3: 100%|██████████| 10/10 [00:08<00:00,  1.24population_element/s]\n",
            "iteration 4: 100%|██████████| 10/10 [00:08<00:00,  1.25population_element/s]\n",
            "iteration 5: 100%|██████████| 10/10 [00:07<00:00,  1.25population_element/s]\n",
            "iteration 6: 100%|██████████| 10/10 [00:07<00:00,  1.27population_element/s]\n",
            "iteration 7: 100%|██████████| 10/10 [00:08<00:00,  1.24population_element/s]\n",
            "iteration 8: 100%|██████████| 10/10 [00:07<00:00,  1.26population_element/s]\n",
            "iteration 9: 100%|██████████| 10/10 [00:08<00:00,  1.25population_element/s]\n",
            "iteration 10: 100%|██████████| 10/10 [00:08<00:00,  1.25population_element/s]\n",
            "iteration 11: 100%|██████████| 10/10 [00:08<00:00,  1.24population_element/s]\n",
            "iteration 12: 100%|██████████| 10/10 [00:08<00:00,  1.23population_element/s]\n",
            "iteration 13: 100%|██████████| 10/10 [00:07<00:00,  1.26population_element/s]\n",
            "iteration 14: 100%|██████████| 10/10 [00:08<00:00,  1.23population_element/s]\n",
            "iteration 15: 100%|██████████| 10/10 [00:08<00:00,  1.25population_element/s]\n",
            "iteration 16: 100%|██████████| 10/10 [00:08<00:00,  1.25population_element/s]\n",
            "iteration 17: 100%|██████████| 10/10 [00:08<00:00,  1.24population_element/s]\n",
            "iteration 18: 100%|██████████| 10/10 [00:07<00:00,  1.25population_element/s]\n",
            "iteration 19: 100%|██████████| 10/10 [00:08<00:00,  1.25population_element/s]\n",
            "iteration 20: 100%|██████████| 10/10 [00:08<00:00,  1.22population_element/s]\n",
            "iteration 21: 100%|██████████| 10/10 [00:08<00:00,  1.25population_element/s]\n",
            "iteration 1:   0%|          | 0/10 [00:00<?, ?population_element/s]"
          ],
          "name": "stderr"
        },
        {
          "output_type": "stream",
          "text": [
            "~~~~~~~~~~~~~~~~~~~~~~~~~~~~~~~~~~~~~~~~~~~~~~~~\n",
            "EPOCHS_TOTAL: 3\n",
            "~~~~~~~~~~~~~~~~~~~~~~~~~~~~~~~~~~~~~~~~~~~~~~~~\n",
            "####################### Training agent: 0 ######################\n"
          ],
          "name": "stdout"
        },
        {
          "output_type": "stream",
          "text": [
            "iteration 1: 100%|██████████| 10/10 [00:08<00:00,  1.24population_element/s]\n",
            "iteration 2: 100%|██████████| 10/10 [00:07<00:00,  1.26population_element/s]\n",
            "iteration 3: 100%|██████████| 10/10 [00:08<00:00,  1.25population_element/s]\n",
            "iteration 4: 100%|██████████| 10/10 [00:07<00:00,  1.25population_element/s]\n",
            "iteration 5: 100%|██████████| 10/10 [00:08<00:00,  1.23population_element/s]\n",
            "iteration 6: 100%|██████████| 10/10 [00:08<00:00,  1.24population_element/s]\n",
            "iteration 7: 100%|██████████| 10/10 [00:08<00:00,  1.24population_element/s]\n",
            "iteration 8: 100%|██████████| 10/10 [00:07<00:00,  1.26population_element/s]\n",
            "iteration 9: 100%|██████████| 10/10 [00:08<00:00,  1.25population_element/s]\n",
            "iteration 10: 100%|██████████| 10/10 [00:07<00:00,  1.26population_element/s]\n",
            "iteration 11: 100%|██████████| 10/10 [00:08<00:00,  1.25population_element/s]\n",
            "iteration 12: 100%|██████████| 10/10 [00:08<00:00,  1.24population_element/s]\n",
            "iteration 13: 100%|██████████| 10/10 [00:07<00:00,  1.25population_element/s]\n",
            "iteration 14: 100%|██████████| 10/10 [00:07<00:00,  1.25population_element/s]\n",
            "iteration 15: 100%|██████████| 10/10 [00:08<00:00,  1.25population_element/s]\n",
            "iteration 16: 100%|██████████| 10/10 [00:08<00:00,  1.23population_element/s]\n",
            "iteration 17: 100%|██████████| 10/10 [00:07<00:00,  1.26population_element/s]\n",
            "iteration 18: 100%|██████████| 10/10 [00:07<00:00,  1.26population_element/s]\n",
            "iteration 19: 100%|██████████| 10/10 [00:08<00:00,  1.25population_element/s]\n",
            "iteration 20: 100%|██████████| 10/10 [00:08<00:00,  1.21population_element/s]\n",
            "iteration 21: 100%|██████████| 10/10 [00:07<00:00,  1.25population_element/s]\n",
            "iteration 1:   0%|          | 0/10 [00:00<?, ?population_element/s]"
          ],
          "name": "stderr"
        },
        {
          "output_type": "stream",
          "text": [
            "####################### Training agent: 1 ######################\n"
          ],
          "name": "stdout"
        },
        {
          "output_type": "stream",
          "text": [
            "iteration 1: 100%|██████████| 10/10 [00:08<00:00,  1.23population_element/s]\n",
            "iteration 2: 100%|██████████| 10/10 [00:08<00:00,  1.21population_element/s]\n",
            "iteration 3: 100%|██████████| 10/10 [00:08<00:00,  1.21population_element/s]\n",
            "iteration 4: 100%|██████████| 10/10 [00:08<00:00,  1.22population_element/s]\n",
            "iteration 5: 100%|██████████| 10/10 [00:08<00:00,  1.22population_element/s]\n",
            "iteration 6: 100%|██████████| 10/10 [00:08<00:00,  1.22population_element/s]\n",
            "iteration 7: 100%|██████████| 10/10 [00:07<00:00,  1.25population_element/s]\n",
            "iteration 8: 100%|██████████| 10/10 [00:08<00:00,  1.25population_element/s]\n",
            "iteration 9: 100%|██████████| 10/10 [00:07<00:00,  1.25population_element/s]\n",
            "iteration 10: 100%|██████████| 10/10 [00:08<00:00,  1.25population_element/s]\n",
            "iteration 11: 100%|██████████| 10/10 [00:08<00:00,  1.24population_element/s]\n",
            "iteration 12: 100%|██████████| 10/10 [00:07<00:00,  1.25population_element/s]\n",
            "iteration 13: 100%|██████████| 10/10 [00:08<00:00,  1.25population_element/s]\n",
            "iteration 14: 100%|██████████| 10/10 [00:08<00:00,  1.24population_element/s]\n",
            "iteration 15: 100%|██████████| 10/10 [00:08<00:00,  1.23population_element/s]\n",
            "iteration 16: 100%|██████████| 10/10 [00:08<00:00,  1.23population_element/s]\n",
            "iteration 17: 100%|██████████| 10/10 [00:08<00:00,  1.24population_element/s]\n",
            "iteration 18: 100%|██████████| 10/10 [00:07<00:00,  1.25population_element/s]\n",
            "iteration 19: 100%|██████████| 10/10 [00:07<00:00,  1.25population_element/s]\n",
            "iteration 20: 100%|██████████| 10/10 [00:07<00:00,  1.27population_element/s]\n",
            "iteration 21: 100%|██████████| 10/10 [00:08<00:00,  1.25population_element/s]\n",
            "iteration 1:   0%|          | 0/10 [00:00<?, ?population_element/s]"
          ],
          "name": "stderr"
        },
        {
          "output_type": "stream",
          "text": [
            "~~~~~~~~~~~~~~~~~~~~~~~~~~~~~~~~~~~~~~~~~~~~~~~~\n",
            "EPOCHS_TOTAL: 4\n",
            "~~~~~~~~~~~~~~~~~~~~~~~~~~~~~~~~~~~~~~~~~~~~~~~~\n",
            "####################### Training agent: 0 ######################\n"
          ],
          "name": "stdout"
        },
        {
          "output_type": "stream",
          "text": [
            "iteration 1: 100%|██████████| 10/10 [00:07<00:00,  1.26population_element/s]\n",
            "iteration 2: 100%|██████████| 10/10 [00:07<00:00,  1.26population_element/s]\n",
            "iteration 3: 100%|██████████| 10/10 [00:07<00:00,  1.28population_element/s]\n",
            "iteration 4: 100%|██████████| 10/10 [00:08<00:00,  1.24population_element/s]\n",
            "iteration 5: 100%|██████████| 10/10 [00:07<00:00,  1.27population_element/s]\n",
            "iteration 6: 100%|██████████| 10/10 [00:07<00:00,  1.26population_element/s]\n",
            "iteration 7: 100%|██████████| 10/10 [00:07<00:00,  1.26population_element/s]\n",
            "iteration 8: 100%|██████████| 10/10 [00:07<00:00,  1.26population_element/s]\n",
            "iteration 9: 100%|██████████| 10/10 [00:07<00:00,  1.26population_element/s]\n",
            "iteration 10: 100%|██████████| 10/10 [00:08<00:00,  1.25population_element/s]\n",
            "iteration 11: 100%|██████████| 10/10 [00:08<00:00,  1.25population_element/s]\n",
            "iteration 12: 100%|██████████| 10/10 [00:07<00:00,  1.25population_element/s]\n",
            "iteration 13: 100%|██████████| 10/10 [00:08<00:00,  1.25population_element/s]\n",
            "iteration 14: 100%|██████████| 10/10 [00:08<00:00,  1.24population_element/s]\n",
            "iteration 15: 100%|██████████| 10/10 [00:08<00:00,  1.22population_element/s]\n",
            "iteration 16: 100%|██████████| 10/10 [00:08<00:00,  1.20population_element/s]\n",
            "iteration 17: 100%|██████████| 10/10 [00:08<00:00,  1.22population_element/s]\n",
            "iteration 18: 100%|██████████| 10/10 [00:08<00:00,  1.20population_element/s]\n",
            "iteration 19: 100%|██████████| 10/10 [00:08<00:00,  1.24population_element/s]\n",
            "iteration 20: 100%|██████████| 10/10 [00:08<00:00,  1.22population_element/s]\n",
            "iteration 21: 100%|██████████| 10/10 [00:08<00:00,  1.23population_element/s]\n",
            "iteration 1:   0%|          | 0/10 [00:00<?, ?population_element/s]"
          ],
          "name": "stderr"
        },
        {
          "output_type": "stream",
          "text": [
            "####################### Training agent: 1 ######################\n"
          ],
          "name": "stdout"
        },
        {
          "output_type": "stream",
          "text": [
            "iteration 1: 100%|██████████| 10/10 [00:08<00:00,  1.22population_element/s]\n",
            "iteration 2: 100%|██████████| 10/10 [00:08<00:00,  1.23population_element/s]\n",
            "iteration 3: 100%|██████████| 10/10 [00:08<00:00,  1.23population_element/s]\n",
            "iteration 4: 100%|██████████| 10/10 [00:08<00:00,  1.24population_element/s]\n",
            "iteration 5: 100%|██████████| 10/10 [00:08<00:00,  1.23population_element/s]\n",
            "iteration 6: 100%|██████████| 10/10 [00:08<00:00,  1.23population_element/s]\n",
            "iteration 7: 100%|██████████| 10/10 [00:08<00:00,  1.20population_element/s]\n",
            "iteration 8: 100%|██████████| 10/10 [00:08<00:00,  1.19population_element/s]\n",
            "iteration 9: 100%|██████████| 10/10 [00:08<00:00,  1.19population_element/s]\n",
            "iteration 10: 100%|██████████| 10/10 [00:08<00:00,  1.20population_element/s]\n",
            "iteration 11: 100%|██████████| 10/10 [00:08<00:00,  1.20population_element/s]\n",
            "iteration 12: 100%|██████████| 10/10 [00:08<00:00,  1.20population_element/s]\n",
            "iteration 13: 100%|██████████| 10/10 [00:08<00:00,  1.22population_element/s]\n",
            "iteration 14: 100%|██████████| 10/10 [00:07<00:00,  1.25population_element/s]\n",
            "iteration 15: 100%|██████████| 10/10 [00:08<00:00,  1.25population_element/s]\n",
            "iteration 16: 100%|██████████| 10/10 [00:08<00:00,  1.23population_element/s]\n",
            "iteration 17: 100%|██████████| 10/10 [00:08<00:00,  1.24population_element/s]\n",
            "iteration 18: 100%|██████████| 10/10 [00:08<00:00,  1.24population_element/s]\n",
            "iteration 19: 100%|██████████| 10/10 [00:08<00:00,  1.24population_element/s]\n",
            "iteration 20: 100%|██████████| 10/10 [00:08<00:00,  1.24population_element/s]\n",
            "iteration 21: 100%|██████████| 10/10 [00:08<00:00,  1.24population_element/s]\n",
            "iteration 1:   0%|          | 0/10 [00:00<?, ?population_element/s]"
          ],
          "name": "stderr"
        },
        {
          "output_type": "stream",
          "text": [
            "~~~~~~~~~~~~~~~~~~~~~~~~~~~~~~~~~~~~~~~~~~~~~~~~\n",
            "EPOCHS_TOTAL: 5\n",
            "~~~~~~~~~~~~~~~~~~~~~~~~~~~~~~~~~~~~~~~~~~~~~~~~\n",
            "####################### Training agent: 0 ######################\n"
          ],
          "name": "stdout"
        },
        {
          "output_type": "stream",
          "text": [
            "iteration 1: 100%|██████████| 10/10 [00:08<00:00,  1.24population_element/s]\n",
            "iteration 2: 100%|██████████| 10/10 [00:08<00:00,  1.22population_element/s]\n",
            "iteration 3: 100%|██████████| 10/10 [00:08<00:00,  1.24population_element/s]\n",
            "iteration 4: 100%|██████████| 10/10 [00:08<00:00,  1.23population_element/s]\n",
            "iteration 5: 100%|██████████| 10/10 [00:08<00:00,  1.23population_element/s]\n",
            "iteration 6: 100%|██████████| 10/10 [00:08<00:00,  1.23population_element/s]\n",
            "iteration 7: 100%|██████████| 10/10 [00:08<00:00,  1.22population_element/s]\n",
            "iteration 8: 100%|██████████| 10/10 [00:08<00:00,  1.23population_element/s]\n",
            "iteration 9: 100%|██████████| 10/10 [00:08<00:00,  1.20population_element/s]\n",
            "iteration 10: 100%|██████████| 10/10 [00:08<00:00,  1.22population_element/s]\n",
            "iteration 11: 100%|██████████| 10/10 [00:08<00:00,  1.21population_element/s]\n",
            "iteration 12: 100%|██████████| 10/10 [00:08<00:00,  1.21population_element/s]\n",
            "iteration 13: 100%|██████████| 10/10 [00:08<00:00,  1.23population_element/s]\n",
            "iteration 14: 100%|██████████| 10/10 [00:08<00:00,  1.22population_element/s]\n",
            "iteration 15: 100%|██████████| 10/10 [00:08<00:00,  1.24population_element/s]\n",
            "iteration 16: 100%|██████████| 10/10 [00:08<00:00,  1.19population_element/s]\n",
            "iteration 17: 100%|██████████| 10/10 [00:08<00:00,  1.20population_element/s]\n",
            "iteration 18: 100%|██████████| 10/10 [00:08<00:00,  1.20population_element/s]\n",
            "iteration 19: 100%|██████████| 10/10 [00:08<00:00,  1.18population_element/s]\n",
            "iteration 20: 100%|██████████| 10/10 [00:08<00:00,  1.20population_element/s]\n",
            "iteration 21: 100%|██████████| 10/10 [00:08<00:00,  1.20population_element/s]\n",
            "iteration 1:   0%|          | 0/10 [00:00<?, ?population_element/s]"
          ],
          "name": "stderr"
        },
        {
          "output_type": "stream",
          "text": [
            "####################### Training agent: 1 ######################\n"
          ],
          "name": "stdout"
        },
        {
          "output_type": "stream",
          "text": [
            "iteration 1: 100%|██████████| 10/10 [00:08<00:00,  1.18population_element/s]\n",
            "iteration 2: 100%|██████████| 10/10 [00:08<00:00,  1.20population_element/s]\n",
            "iteration 3: 100%|██████████| 10/10 [00:08<00:00,  1.19population_element/s]\n",
            "iteration 4: 100%|██████████| 10/10 [00:08<00:00,  1.20population_element/s]\n",
            "iteration 5: 100%|██████████| 10/10 [00:08<00:00,  1.22population_element/s]\n",
            "iteration 6: 100%|██████████| 10/10 [00:08<00:00,  1.21population_element/s]\n",
            "iteration 7: 100%|██████████| 10/10 [00:08<00:00,  1.19population_element/s]\n",
            "iteration 8: 100%|██████████| 10/10 [00:08<00:00,  1.18population_element/s]\n",
            "iteration 9: 100%|██████████| 10/10 [00:08<00:00,  1.20population_element/s]\n",
            "iteration 10: 100%|██████████| 10/10 [00:08<00:00,  1.19population_element/s]\n",
            "iteration 11: 100%|██████████| 10/10 [00:08<00:00,  1.20population_element/s]\n",
            "iteration 12: 100%|██████████| 10/10 [00:08<00:00,  1.24population_element/s]\n",
            "iteration 13: 100%|██████████| 10/10 [00:08<00:00,  1.24population_element/s]\n",
            "iteration 14: 100%|██████████| 10/10 [00:08<00:00,  1.24population_element/s]\n",
            "iteration 15: 100%|██████████| 10/10 [00:08<00:00,  1.24population_element/s]\n",
            "iteration 16: 100%|██████████| 10/10 [00:07<00:00,  1.26population_element/s]\n",
            "iteration 17: 100%|██████████| 10/10 [00:08<00:00,  1.24population_element/s]\n",
            "iteration 18: 100%|██████████| 10/10 [00:08<00:00,  1.21population_element/s]\n",
            "iteration 19: 100%|██████████| 10/10 [00:08<00:00,  1.18population_element/s]\n",
            "iteration 20: 100%|██████████| 10/10 [00:08<00:00,  1.20population_element/s]\n",
            "iteration 21: 100%|██████████| 10/10 [00:08<00:00,  1.21population_element/s]\n",
            "iteration 1:   0%|          | 0/10 [00:00<?, ?population_element/s]"
          ],
          "name": "stderr"
        },
        {
          "output_type": "stream",
          "text": [
            "~~~~~~~~~~~~~~~~~~~~~~~~~~~~~~~~~~~~~~~~~~~~~~~~\n",
            "EPOCHS_TOTAL: 6\n",
            "~~~~~~~~~~~~~~~~~~~~~~~~~~~~~~~~~~~~~~~~~~~~~~~~\n",
            "####################### Training agent: 0 ######################\n"
          ],
          "name": "stdout"
        },
        {
          "output_type": "stream",
          "text": [
            "iteration 1: 100%|██████████| 10/10 [00:08<00:00,  1.21population_element/s]\n",
            "iteration 2: 100%|██████████| 10/10 [00:08<00:00,  1.22population_element/s]\n",
            "iteration 3: 100%|██████████| 10/10 [00:08<00:00,  1.20population_element/s]\n",
            "iteration 4: 100%|██████████| 10/10 [00:08<00:00,  1.18population_element/s]\n",
            "iteration 5: 100%|██████████| 10/10 [00:08<00:00,  1.21population_element/s]\n",
            "iteration 6: 100%|██████████| 10/10 [00:08<00:00,  1.20population_element/s]\n",
            "iteration 7: 100%|██████████| 10/10 [00:08<00:00,  1.20population_element/s]\n",
            "iteration 8: 100%|██████████| 10/10 [00:08<00:00,  1.21population_element/s]\n",
            "iteration 9: 100%|██████████| 10/10 [00:08<00:00,  1.20population_element/s]\n",
            "iteration 10: 100%|██████████| 10/10 [00:08<00:00,  1.22population_element/s]\n",
            "iteration 11: 100%|██████████| 10/10 [00:08<00:00,  1.21population_element/s]\n",
            "iteration 12: 100%|██████████| 10/10 [00:08<00:00,  1.22population_element/s]\n",
            "iteration 13: 100%|██████████| 10/10 [00:08<00:00,  1.22population_element/s]\n",
            "iteration 14: 100%|██████████| 10/10 [00:08<00:00,  1.23population_element/s]\n",
            "iteration 15: 100%|██████████| 10/10 [00:08<00:00,  1.23population_element/s]\n",
            "iteration 16: 100%|██████████| 10/10 [00:08<00:00,  1.22population_element/s]\n",
            "iteration 17: 100%|██████████| 10/10 [00:08<00:00,  1.23population_element/s]\n",
            "iteration 18: 100%|██████████| 10/10 [00:08<00:00,  1.19population_element/s]\n",
            "iteration 19: 100%|██████████| 10/10 [00:08<00:00,  1.20population_element/s]\n",
            "iteration 20: 100%|██████████| 10/10 [00:08<00:00,  1.23population_element/s]\n",
            "iteration 21: 100%|██████████| 10/10 [00:08<00:00,  1.24population_element/s]\n",
            "iteration 1:   0%|          | 0/10 [00:00<?, ?population_element/s]"
          ],
          "name": "stderr"
        },
        {
          "output_type": "stream",
          "text": [
            "####################### Training agent: 1 ######################\n"
          ],
          "name": "stdout"
        },
        {
          "output_type": "stream",
          "text": [
            "iteration 1: 100%|██████████| 10/10 [00:08<00:00,  1.23population_element/s]\n",
            "iteration 2: 100%|██████████| 10/10 [00:07<00:00,  1.25population_element/s]\n",
            "iteration 3: 100%|██████████| 10/10 [00:08<00:00,  1.24population_element/s]\n",
            "iteration 4: 100%|██████████| 10/10 [00:08<00:00,  1.24population_element/s]\n",
            "iteration 5: 100%|██████████| 10/10 [00:08<00:00,  1.24population_element/s]\n",
            "iteration 6: 100%|██████████| 10/10 [00:08<00:00,  1.24population_element/s]\n",
            "iteration 7: 100%|██████████| 10/10 [00:08<00:00,  1.24population_element/s]\n",
            "iteration 8: 100%|██████████| 10/10 [00:07<00:00,  1.25population_element/s]\n",
            "iteration 9: 100%|██████████| 10/10 [00:07<00:00,  1.25population_element/s]\n",
            "iteration 10: 100%|██████████| 10/10 [00:07<00:00,  1.25population_element/s]\n",
            "iteration 11: 100%|██████████| 10/10 [00:07<00:00,  1.26population_element/s]\n",
            "iteration 12: 100%|██████████| 10/10 [00:07<00:00,  1.25population_element/s]\n",
            "iteration 13: 100%|██████████| 10/10 [00:08<00:00,  1.24population_element/s]\n",
            "iteration 14: 100%|██████████| 10/10 [00:07<00:00,  1.25population_element/s]\n",
            "iteration 15: 100%|██████████| 10/10 [00:08<00:00,  1.25population_element/s]\n",
            "iteration 16: 100%|██████████| 10/10 [00:08<00:00,  1.24population_element/s]\n",
            "iteration 17: 100%|██████████| 10/10 [00:08<00:00,  1.24population_element/s]\n",
            "iteration 18: 100%|██████████| 10/10 [00:08<00:00,  1.24population_element/s]\n",
            "iteration 19: 100%|██████████| 10/10 [00:08<00:00,  1.25population_element/s]\n",
            "iteration 20: 100%|██████████| 10/10 [00:08<00:00,  1.25population_element/s]\n",
            "iteration 21: 100%|██████████| 10/10 [00:08<00:00,  1.25population_element/s]\n",
            "iteration 1:   0%|          | 0/10 [00:00<?, ?population_element/s]"
          ],
          "name": "stderr"
        },
        {
          "output_type": "stream",
          "text": [
            "~~~~~~~~~~~~~~~~~~~~~~~~~~~~~~~~~~~~~~~~~~~~~~~~\n",
            "EPOCHS_TOTAL: 7\n",
            "~~~~~~~~~~~~~~~~~~~~~~~~~~~~~~~~~~~~~~~~~~~~~~~~\n",
            "####################### Training agent: 0 ######################\n"
          ],
          "name": "stdout"
        },
        {
          "output_type": "stream",
          "text": [
            "iteration 1: 100%|██████████| 10/10 [00:07<00:00,  1.26population_element/s]\n",
            "iteration 2: 100%|██████████| 10/10 [00:08<00:00,  1.25population_element/s]\n",
            "iteration 3: 100%|██████████| 10/10 [00:07<00:00,  1.27population_element/s]\n",
            "iteration 4: 100%|██████████| 10/10 [00:07<00:00,  1.26population_element/s]\n",
            "iteration 5: 100%|██████████| 10/10 [00:07<00:00,  1.26population_element/s]\n",
            "iteration 6: 100%|██████████| 10/10 [00:07<00:00,  1.26population_element/s]\n",
            "iteration 7: 100%|██████████| 10/10 [00:07<00:00,  1.26population_element/s]\n",
            "iteration 8: 100%|██████████| 10/10 [00:07<00:00,  1.26population_element/s]\n",
            "iteration 9: 100%|██████████| 10/10 [00:07<00:00,  1.25population_element/s]\n",
            "iteration 10: 100%|██████████| 10/10 [00:07<00:00,  1.26population_element/s]\n",
            "iteration 11: 100%|██████████| 10/10 [00:07<00:00,  1.26population_element/s]\n",
            "iteration 12: 100%|██████████| 10/10 [00:07<00:00,  1.26population_element/s]\n",
            "iteration 13: 100%|██████████| 10/10 [00:07<00:00,  1.25population_element/s]\n",
            "iteration 14: 100%|██████████| 10/10 [00:07<00:00,  1.25population_element/s]\n",
            "iteration 15: 100%|██████████| 10/10 [00:07<00:00,  1.27population_element/s]\n",
            "iteration 16: 100%|██████████| 10/10 [00:07<00:00,  1.25population_element/s]\n",
            "iteration 17: 100%|██████████| 10/10 [00:07<00:00,  1.26population_element/s]\n",
            "iteration 18: 100%|██████████| 10/10 [00:07<00:00,  1.26population_element/s]\n",
            "iteration 19: 100%|██████████| 10/10 [00:07<00:00,  1.26population_element/s]\n",
            "iteration 20: 100%|██████████| 10/10 [00:08<00:00,  1.24population_element/s]\n",
            "iteration 21: 100%|██████████| 10/10 [00:08<00:00,  1.24population_element/s]\n",
            "iteration 1:   0%|          | 0/10 [00:00<?, ?population_element/s]"
          ],
          "name": "stderr"
        },
        {
          "output_type": "stream",
          "text": [
            "####################### Training agent: 1 ######################\n"
          ],
          "name": "stdout"
        },
        {
          "output_type": "stream",
          "text": [
            "iteration 1: 100%|██████████| 10/10 [00:07<00:00,  1.26population_element/s]\n",
            "iteration 2: 100%|██████████| 10/10 [00:07<00:00,  1.25population_element/s]\n",
            "iteration 3: 100%|██████████| 10/10 [00:07<00:00,  1.25population_element/s]\n",
            "iteration 4: 100%|██████████| 10/10 [00:08<00:00,  1.23population_element/s]\n",
            "iteration 5: 100%|██████████| 10/10 [00:07<00:00,  1.26population_element/s]\n",
            "iteration 6: 100%|██████████| 10/10 [00:08<00:00,  1.24population_element/s]\n",
            "iteration 7: 100%|██████████| 10/10 [00:08<00:00,  1.25population_element/s]\n",
            "iteration 8: 100%|██████████| 10/10 [00:08<00:00,  1.22population_element/s]\n",
            "iteration 9: 100%|██████████| 10/10 [00:07<00:00,  1.25population_element/s]\n",
            "iteration 10: 100%|██████████| 10/10 [00:07<00:00,  1.25population_element/s]\n",
            "iteration 11: 100%|██████████| 10/10 [00:08<00:00,  1.24population_element/s]\n",
            "iteration 12: 100%|██████████| 10/10 [00:08<00:00,  1.24population_element/s]\n",
            "iteration 13: 100%|██████████| 10/10 [00:08<00:00,  1.25population_element/s]\n",
            "iteration 14: 100%|██████████| 10/10 [00:08<00:00,  1.24population_element/s]\n",
            "iteration 15: 100%|██████████| 10/10 [00:08<00:00,  1.24population_element/s]\n",
            "iteration 16: 100%|██████████| 10/10 [00:08<00:00,  1.23population_element/s]\n",
            "iteration 17: 100%|██████████| 10/10 [00:08<00:00,  1.24population_element/s]\n",
            "iteration 18: 100%|██████████| 10/10 [00:08<00:00,  1.23population_element/s]\n",
            "iteration 19: 100%|██████████| 10/10 [00:08<00:00,  1.25population_element/s]\n",
            "iteration 20: 100%|██████████| 10/10 [00:07<00:00,  1.26population_element/s]\n",
            "iteration 21: 100%|██████████| 10/10 [00:08<00:00,  1.24population_element/s]\n",
            "iteration 1:   0%|          | 0/10 [00:00<?, ?population_element/s]"
          ],
          "name": "stderr"
        },
        {
          "output_type": "stream",
          "text": [
            "~~~~~~~~~~~~~~~~~~~~~~~~~~~~~~~~~~~~~~~~~~~~~~~~\n",
            "EPOCHS_TOTAL: 8\n",
            "~~~~~~~~~~~~~~~~~~~~~~~~~~~~~~~~~~~~~~~~~~~~~~~~\n",
            "####################### Training agent: 0 ######################\n"
          ],
          "name": "stdout"
        },
        {
          "output_type": "stream",
          "text": [
            "iteration 1: 100%|██████████| 10/10 [00:08<00:00,  1.23population_element/s]\n",
            "iteration 2: 100%|██████████| 10/10 [00:08<00:00,  1.23population_element/s]\n",
            "iteration 3: 100%|██████████| 10/10 [00:08<00:00,  1.22population_element/s]\n",
            "iteration 4: 100%|██████████| 10/10 [00:08<00:00,  1.22population_element/s]\n",
            "iteration 5: 100%|██████████| 10/10 [00:08<00:00,  1.22population_element/s]\n",
            "iteration 6: 100%|██████████| 10/10 [00:08<00:00,  1.24population_element/s]\n",
            "iteration 7: 100%|██████████| 10/10 [00:08<00:00,  1.22population_element/s]\n",
            "iteration 8: 100%|██████████| 10/10 [00:08<00:00,  1.23population_element/s]\n",
            "iteration 9: 100%|██████████| 10/10 [00:08<00:00,  1.23population_element/s]\n",
            "iteration 10: 100%|██████████| 10/10 [00:08<00:00,  1.24population_element/s]\n",
            "iteration 11: 100%|██████████| 10/10 [00:08<00:00,  1.23population_element/s]\n",
            "iteration 12: 100%|██████████| 10/10 [00:08<00:00,  1.23population_element/s]\n",
            "iteration 13: 100%|██████████| 10/10 [00:08<00:00,  1.23population_element/s]\n",
            "iteration 14: 100%|██████████| 10/10 [00:08<00:00,  1.23population_element/s]\n",
            "iteration 15: 100%|██████████| 10/10 [00:08<00:00,  1.23population_element/s]\n",
            "iteration 16: 100%|██████████| 10/10 [00:08<00:00,  1.22population_element/s]\n",
            "iteration 17: 100%|██████████| 10/10 [00:08<00:00,  1.24population_element/s]\n",
            "iteration 18: 100%|██████████| 10/10 [00:08<00:00,  1.23population_element/s]\n",
            "iteration 19: 100%|██████████| 10/10 [00:08<00:00,  1.23population_element/s]\n",
            "iteration 20: 100%|██████████| 10/10 [00:08<00:00,  1.23population_element/s]\n",
            "iteration 21: 100%|██████████| 10/10 [00:07<00:00,  1.25population_element/s]\n",
            "iteration 1:   0%|          | 0/10 [00:00<?, ?population_element/s]"
          ],
          "name": "stderr"
        },
        {
          "output_type": "stream",
          "text": [
            "####################### Training agent: 1 ######################\n"
          ],
          "name": "stdout"
        },
        {
          "output_type": "stream",
          "text": [
            "iteration 1: 100%|██████████| 10/10 [00:08<00:00,  1.23population_element/s]\n",
            "iteration 2: 100%|██████████| 10/10 [00:08<00:00,  1.23population_element/s]\n",
            "iteration 3: 100%|██████████| 10/10 [00:08<00:00,  1.22population_element/s]\n",
            "iteration 4: 100%|██████████| 10/10 [00:08<00:00,  1.24population_element/s]\n",
            "iteration 5: 100%|██████████| 10/10 [00:08<00:00,  1.23population_element/s]\n",
            "iteration 6: 100%|██████████| 10/10 [00:08<00:00,  1.23population_element/s]\n",
            "iteration 7: 100%|██████████| 10/10 [00:08<00:00,  1.25population_element/s]\n",
            "iteration 8: 100%|██████████| 10/10 [00:08<00:00,  1.24population_element/s]\n",
            "iteration 9: 100%|██████████| 10/10 [00:08<00:00,  1.23population_element/s]\n",
            "iteration 10: 100%|██████████| 10/10 [00:08<00:00,  1.23population_element/s]\n",
            "iteration 11: 100%|██████████| 10/10 [00:08<00:00,  1.24population_element/s]\n",
            "iteration 12: 100%|██████████| 10/10 [00:08<00:00,  1.24population_element/s]\n",
            "iteration 13: 100%|██████████| 10/10 [00:08<00:00,  1.24population_element/s]\n",
            "iteration 14: 100%|██████████| 10/10 [00:08<00:00,  1.25population_element/s]\n",
            "iteration 15: 100%|██████████| 10/10 [00:08<00:00,  1.24population_element/s]\n",
            "iteration 16: 100%|██████████| 10/10 [00:08<00:00,  1.24population_element/s]\n",
            "iteration 17: 100%|██████████| 10/10 [00:08<00:00,  1.24population_element/s]\n",
            "iteration 18: 100%|██████████| 10/10 [00:08<00:00,  1.25population_element/s]\n",
            "iteration 19: 100%|██████████| 10/10 [00:07<00:00,  1.25population_element/s]\n",
            "iteration 20: 100%|██████████| 10/10 [00:08<00:00,  1.23population_element/s]\n",
            "iteration 21: 100%|██████████| 10/10 [00:08<00:00,  1.23population_element/s]\n",
            "iteration 1:   0%|          | 0/10 [00:00<?, ?population_element/s]"
          ],
          "name": "stderr"
        },
        {
          "output_type": "stream",
          "text": [
            "~~~~~~~~~~~~~~~~~~~~~~~~~~~~~~~~~~~~~~~~~~~~~~~~\n",
            "EPOCHS_TOTAL: 9\n",
            "~~~~~~~~~~~~~~~~~~~~~~~~~~~~~~~~~~~~~~~~~~~~~~~~\n",
            "####################### Training agent: 0 ######################\n"
          ],
          "name": "stdout"
        },
        {
          "output_type": "stream",
          "text": [
            "iteration 1: 100%|██████████| 10/10 [00:08<00:00,  1.24population_element/s]\n",
            "iteration 2: 100%|██████████| 10/10 [00:08<00:00,  1.21population_element/s]\n",
            "iteration 3: 100%|██████████| 10/10 [00:08<00:00,  1.23population_element/s]\n",
            "iteration 4: 100%|██████████| 10/10 [00:08<00:00,  1.23population_element/s]\n",
            "iteration 5: 100%|██████████| 10/10 [00:08<00:00,  1.22population_element/s]\n",
            "iteration 6: 100%|██████████| 10/10 [00:08<00:00,  1.22population_element/s]\n",
            "iteration 7: 100%|██████████| 10/10 [00:08<00:00,  1.23population_element/s]\n",
            "iteration 8: 100%|██████████| 10/10 [00:08<00:00,  1.24population_element/s]\n",
            "iteration 9: 100%|██████████| 10/10 [00:08<00:00,  1.25population_element/s]\n",
            "iteration 10: 100%|██████████| 10/10 [00:08<00:00,  1.24population_element/s]\n",
            "iteration 11: 100%|██████████| 10/10 [00:08<00:00,  1.22population_element/s]\n",
            "iteration 12: 100%|██████████| 10/10 [00:08<00:00,  1.21population_element/s]\n",
            "iteration 13: 100%|██████████| 10/10 [00:08<00:00,  1.21population_element/s]\n",
            "iteration 14: 100%|██████████| 10/10 [00:08<00:00,  1.21population_element/s]\n",
            "iteration 15: 100%|██████████| 10/10 [00:08<00:00,  1.22population_element/s]\n",
            "iteration 16: 100%|██████████| 10/10 [00:08<00:00,  1.22population_element/s]\n",
            "iteration 17: 100%|██████████| 10/10 [00:08<00:00,  1.19population_element/s]\n",
            "iteration 18: 100%|██████████| 10/10 [00:08<00:00,  1.20population_element/s]\n",
            "iteration 19: 100%|██████████| 10/10 [00:08<00:00,  1.21population_element/s]\n",
            "iteration 20: 100%|██████████| 10/10 [00:08<00:00,  1.23population_element/s]\n",
            "iteration 21: 100%|██████████| 10/10 [00:08<00:00,  1.22population_element/s]\n",
            "iteration 1:   0%|          | 0/10 [00:00<?, ?population_element/s]"
          ],
          "name": "stderr"
        },
        {
          "output_type": "stream",
          "text": [
            "####################### Training agent: 1 ######################\n"
          ],
          "name": "stdout"
        },
        {
          "output_type": "stream",
          "text": [
            "iteration 1: 100%|██████████| 10/10 [00:08<00:00,  1.22population_element/s]\n",
            "iteration 2: 100%|██████████| 10/10 [00:08<00:00,  1.23population_element/s]\n",
            "iteration 3: 100%|██████████| 10/10 [00:08<00:00,  1.24population_element/s]\n",
            "iteration 4: 100%|██████████| 10/10 [00:08<00:00,  1.23population_element/s]\n",
            "iteration 5: 100%|██████████| 10/10 [00:08<00:00,  1.23population_element/s]\n",
            "iteration 6: 100%|██████████| 10/10 [00:08<00:00,  1.25population_element/s]\n",
            "iteration 7: 100%|██████████| 10/10 [00:08<00:00,  1.23population_element/s]\n",
            "iteration 8: 100%|██████████| 10/10 [00:08<00:00,  1.24population_element/s]\n",
            "iteration 9: 100%|██████████| 10/10 [00:08<00:00,  1.24population_element/s]\n",
            "iteration 10: 100%|██████████| 10/10 [00:08<00:00,  1.23population_element/s]\n",
            "iteration 11: 100%|██████████| 10/10 [00:08<00:00,  1.22population_element/s]\n",
            "iteration 12: 100%|██████████| 10/10 [00:08<00:00,  1.22population_element/s]\n",
            "iteration 13: 100%|██████████| 10/10 [00:08<00:00,  1.24population_element/s]\n",
            "iteration 14: 100%|██████████| 10/10 [00:08<00:00,  1.24population_element/s]\n",
            "iteration 15: 100%|██████████| 10/10 [00:08<00:00,  1.23population_element/s]\n",
            "iteration 16: 100%|██████████| 10/10 [00:08<00:00,  1.25population_element/s]\n",
            "iteration 17: 100%|██████████| 10/10 [00:08<00:00,  1.23population_element/s]\n",
            "iteration 18: 100%|██████████| 10/10 [00:08<00:00,  1.24population_element/s]\n",
            "iteration 19: 100%|██████████| 10/10 [00:08<00:00,  1.23population_element/s]\n",
            "iteration 20: 100%|██████████| 10/10 [00:08<00:00,  1.22population_element/s]\n",
            "iteration 21: 100%|██████████| 10/10 [00:08<00:00,  1.23population_element/s]\n",
            "iteration 1:   0%|          | 0/10 [00:00<?, ?population_element/s]"
          ],
          "name": "stderr"
        },
        {
          "output_type": "stream",
          "text": [
            "~~~~~~~~~~~~~~~~~~~~~~~~~~~~~~~~~~~~~~~~~~~~~~~~\n",
            "EPOCHS_TOTAL: 10\n",
            "~~~~~~~~~~~~~~~~~~~~~~~~~~~~~~~~~~~~~~~~~~~~~~~~\n",
            "####################### Training agent: 0 ######################\n"
          ],
          "name": "stdout"
        },
        {
          "output_type": "stream",
          "text": [
            "iteration 1: 100%|██████████| 10/10 [00:08<00:00,  1.24population_element/s]\n",
            "iteration 2: 100%|██████████| 10/10 [00:08<00:00,  1.24population_element/s]\n",
            "iteration 3: 100%|██████████| 10/10 [00:08<00:00,  1.23population_element/s]\n",
            "iteration 4: 100%|██████████| 10/10 [00:08<00:00,  1.24population_element/s]\n",
            "iteration 5: 100%|██████████| 10/10 [00:08<00:00,  1.24population_element/s]\n",
            "iteration 6: 100%|██████████| 10/10 [00:08<00:00,  1.23population_element/s]\n",
            "iteration 7: 100%|██████████| 10/10 [00:08<00:00,  1.22population_element/s]\n",
            "iteration 8: 100%|██████████| 10/10 [00:08<00:00,  1.20population_element/s]\n",
            "iteration 9: 100%|██████████| 10/10 [00:08<00:00,  1.20population_element/s]\n",
            "iteration 10: 100%|██████████| 10/10 [00:08<00:00,  1.24population_element/s]\n",
            "iteration 11: 100%|██████████| 10/10 [00:08<00:00,  1.25population_element/s]\n",
            "iteration 12: 100%|██████████| 10/10 [00:08<00:00,  1.22population_element/s]\n",
            "iteration 13: 100%|██████████| 10/10 [00:08<00:00,  1.24population_element/s]\n",
            "iteration 14: 100%|██████████| 10/10 [00:08<00:00,  1.24population_element/s]\n",
            "iteration 15: 100%|██████████| 10/10 [00:08<00:00,  1.25population_element/s]\n",
            "iteration 16: 100%|██████████| 10/10 [00:08<00:00,  1.23population_element/s]\n",
            "iteration 17: 100%|██████████| 10/10 [00:08<00:00,  1.24population_element/s]\n",
            "iteration 18: 100%|██████████| 10/10 [00:08<00:00,  1.23population_element/s]\n",
            "iteration 19: 100%|██████████| 10/10 [00:08<00:00,  1.22population_element/s]\n",
            "iteration 20: 100%|██████████| 10/10 [00:08<00:00,  1.22population_element/s]\n",
            "iteration 21: 100%|██████████| 10/10 [00:08<00:00,  1.24population_element/s]\n",
            "iteration 1:   0%|          | 0/10 [00:00<?, ?population_element/s]"
          ],
          "name": "stderr"
        },
        {
          "output_type": "stream",
          "text": [
            "####################### Training agent: 1 ######################\n"
          ],
          "name": "stdout"
        },
        {
          "output_type": "stream",
          "text": [
            "iteration 1: 100%|██████████| 10/10 [00:08<00:00,  1.24population_element/s]\n",
            "iteration 2: 100%|██████████| 10/10 [00:08<00:00,  1.23population_element/s]\n",
            "iteration 3: 100%|██████████| 10/10 [00:08<00:00,  1.25population_element/s]\n",
            "iteration 4: 100%|██████████| 10/10 [00:08<00:00,  1.25population_element/s]\n",
            "iteration 5: 100%|██████████| 10/10 [00:08<00:00,  1.25population_element/s]\n",
            "iteration 6: 100%|██████████| 10/10 [00:08<00:00,  1.24population_element/s]\n",
            "iteration 7: 100%|██████████| 10/10 [00:08<00:00,  1.23population_element/s]\n",
            "iteration 8: 100%|██████████| 10/10 [00:08<00:00,  1.24population_element/s]\n",
            "iteration 9: 100%|██████████| 10/10 [00:07<00:00,  1.25population_element/s]\n",
            "iteration 10: 100%|██████████| 10/10 [00:08<00:00,  1.22population_element/s]\n",
            "iteration 11: 100%|██████████| 10/10 [00:08<00:00,  1.24population_element/s]\n",
            "iteration 12: 100%|██████████| 10/10 [00:08<00:00,  1.25population_element/s]\n",
            "iteration 13: 100%|██████████| 10/10 [00:08<00:00,  1.25population_element/s]\n",
            "iteration 14: 100%|██████████| 10/10 [00:08<00:00,  1.24population_element/s]\n",
            "iteration 15: 100%|██████████| 10/10 [00:08<00:00,  1.25population_element/s]\n",
            "iteration 16: 100%|██████████| 10/10 [00:08<00:00,  1.24population_element/s]\n",
            "iteration 17: 100%|██████████| 10/10 [00:08<00:00,  1.23population_element/s]\n",
            "iteration 18: 100%|██████████| 10/10 [00:08<00:00,  1.23population_element/s]\n",
            "iteration 19: 100%|██████████| 10/10 [00:08<00:00,  1.24population_element/s]\n",
            "iteration 20: 100%|██████████| 10/10 [00:08<00:00,  1.24population_element/s]\n",
            "iteration 21: 100%|██████████| 10/10 [00:08<00:00,  1.23population_element/s]\n",
            "iteration 1:   0%|          | 0/10 [00:00<?, ?population_element/s]"
          ],
          "name": "stderr"
        },
        {
          "output_type": "stream",
          "text": [
            "~~~~~~~~~~~~~~~~~~~~~~~~~~~~~~~~~~~~~~~~~~~~~~~~\n",
            "EPOCHS_TOTAL: 11\n",
            "~~~~~~~~~~~~~~~~~~~~~~~~~~~~~~~~~~~~~~~~~~~~~~~~\n",
            "####################### Training agent: 0 ######################\n"
          ],
          "name": "stdout"
        },
        {
          "output_type": "stream",
          "text": [
            "iteration 1: 100%|██████████| 10/10 [00:07<00:00,  1.25population_element/s]\n",
            "iteration 2: 100%|██████████| 10/10 [00:07<00:00,  1.26population_element/s]\n",
            "iteration 3: 100%|██████████| 10/10 [00:07<00:00,  1.26population_element/s]\n",
            "iteration 4: 100%|██████████| 10/10 [00:07<00:00,  1.27population_element/s]\n",
            "iteration 5: 100%|██████████| 10/10 [00:08<00:00,  1.25population_element/s]\n",
            "iteration 6: 100%|██████████| 10/10 [00:07<00:00,  1.26population_element/s]\n",
            "iteration 7: 100%|██████████| 10/10 [00:08<00:00,  1.25population_element/s]\n",
            "iteration 8: 100%|██████████| 10/10 [00:07<00:00,  1.26population_element/s]\n",
            "iteration 9: 100%|██████████| 10/10 [00:07<00:00,  1.26population_element/s]\n",
            "iteration 10: 100%|██████████| 10/10 [00:07<00:00,  1.26population_element/s]\n",
            "iteration 11: 100%|██████████| 10/10 [00:07<00:00,  1.26population_element/s]\n",
            "iteration 12: 100%|██████████| 10/10 [00:07<00:00,  1.27population_element/s]\n",
            "iteration 13: 100%|██████████| 10/10 [00:07<00:00,  1.27population_element/s]\n",
            "iteration 14: 100%|██████████| 10/10 [00:07<00:00,  1.26population_element/s]\n",
            "iteration 15: 100%|██████████| 10/10 [00:07<00:00,  1.27population_element/s]\n",
            "iteration 16: 100%|██████████| 10/10 [00:07<00:00,  1.27population_element/s]\n",
            "iteration 17: 100%|██████████| 10/10 [00:07<00:00,  1.27population_element/s]\n",
            "iteration 18: 100%|██████████| 10/10 [00:07<00:00,  1.26population_element/s]\n",
            "iteration 19: 100%|██████████| 10/10 [00:07<00:00,  1.26population_element/s]\n",
            "iteration 20: 100%|██████████| 10/10 [00:07<00:00,  1.28population_element/s]\n",
            "iteration 21: 100%|██████████| 10/10 [00:07<00:00,  1.26population_element/s]\n",
            "iteration 1:   0%|          | 0/10 [00:00<?, ?population_element/s]"
          ],
          "name": "stderr"
        },
        {
          "output_type": "stream",
          "text": [
            "####################### Training agent: 1 ######################\n"
          ],
          "name": "stdout"
        },
        {
          "output_type": "stream",
          "text": [
            "iteration 1: 100%|██████████| 10/10 [00:07<00:00,  1.27population_element/s]\n",
            "iteration 2: 100%|██████████| 10/10 [00:08<00:00,  1.25population_element/s]\n",
            "iteration 3: 100%|██████████| 10/10 [00:07<00:00,  1.26population_element/s]\n",
            "iteration 4: 100%|██████████| 10/10 [00:07<00:00,  1.26population_element/s]\n",
            "iteration 5: 100%|██████████| 10/10 [00:08<00:00,  1.24population_element/s]\n",
            "iteration 6: 100%|██████████| 10/10 [00:08<00:00,  1.25population_element/s]\n",
            "iteration 7: 100%|██████████| 10/10 [00:07<00:00,  1.26population_element/s]\n",
            "iteration 8: 100%|██████████| 10/10 [00:07<00:00,  1.26population_element/s]\n",
            "iteration 9: 100%|██████████| 10/10 [00:07<00:00,  1.27population_element/s]\n",
            "iteration 10: 100%|██████████| 10/10 [00:07<00:00,  1.26population_element/s]\n",
            "iteration 11: 100%|██████████| 10/10 [00:07<00:00,  1.26population_element/s]\n",
            "iteration 12: 100%|██████████| 10/10 [00:07<00:00,  1.26population_element/s]\n",
            "iteration 13: 100%|██████████| 10/10 [00:07<00:00,  1.25population_element/s]\n",
            "iteration 14: 100%|██████████| 10/10 [00:07<00:00,  1.27population_element/s]\n",
            "iteration 15: 100%|██████████| 10/10 [00:07<00:00,  1.26population_element/s]\n",
            "iteration 16: 100%|██████████| 10/10 [00:07<00:00,  1.26population_element/s]\n",
            "iteration 17: 100%|██████████| 10/10 [00:08<00:00,  1.25population_element/s]\n",
            "iteration 18: 100%|██████████| 10/10 [00:07<00:00,  1.26population_element/s]\n",
            "iteration 19: 100%|██████████| 10/10 [00:07<00:00,  1.26population_element/s]\n",
            "iteration 20: 100%|██████████| 10/10 [00:08<00:00,  1.23population_element/s]\n",
            "iteration 21: 100%|██████████| 10/10 [00:07<00:00,  1.26population_element/s]\n",
            "iteration 1:   0%|          | 0/10 [00:00<?, ?population_element/s]"
          ],
          "name": "stderr"
        },
        {
          "output_type": "stream",
          "text": [
            "~~~~~~~~~~~~~~~~~~~~~~~~~~~~~~~~~~~~~~~~~~~~~~~~\n",
            "EPOCHS_TOTAL: 12\n",
            "~~~~~~~~~~~~~~~~~~~~~~~~~~~~~~~~~~~~~~~~~~~~~~~~\n",
            "####################### Training agent: 0 ######################\n"
          ],
          "name": "stdout"
        },
        {
          "output_type": "stream",
          "text": [
            "iteration 1: 100%|██████████| 10/10 [00:08<00:00,  1.23population_element/s]\n",
            "iteration 2: 100%|██████████| 10/10 [00:08<00:00,  1.23population_element/s]\n",
            "iteration 3: 100%|██████████| 10/10 [00:08<00:00,  1.25population_element/s]\n",
            "iteration 4: 100%|██████████| 10/10 [00:07<00:00,  1.25population_element/s]\n",
            "iteration 5: 100%|██████████| 10/10 [00:08<00:00,  1.25population_element/s]\n",
            "iteration 6: 100%|██████████| 10/10 [00:08<00:00,  1.24population_element/s]\n",
            "iteration 7: 100%|██████████| 10/10 [00:07<00:00,  1.25population_element/s]\n",
            "iteration 8: 100%|██████████| 10/10 [00:07<00:00,  1.27population_element/s]\n",
            "iteration 9: 100%|██████████| 10/10 [00:07<00:00,  1.26population_element/s]\n",
            "iteration 10: 100%|██████████| 10/10 [00:07<00:00,  1.25population_element/s]\n",
            "iteration 11: 100%|██████████| 10/10 [00:07<00:00,  1.26population_element/s]\n",
            "iteration 12: 100%|██████████| 10/10 [00:07<00:00,  1.26population_element/s]\n",
            "iteration 13: 100%|██████████| 10/10 [00:07<00:00,  1.25population_element/s]\n",
            "iteration 14: 100%|██████████| 10/10 [00:07<00:00,  1.25population_element/s]\n",
            "iteration 15: 100%|██████████| 10/10 [00:08<00:00,  1.24population_element/s]\n",
            "iteration 16: 100%|██████████| 10/10 [00:07<00:00,  1.26population_element/s]\n",
            "iteration 17: 100%|██████████| 10/10 [00:07<00:00,  1.25population_element/s]\n",
            "iteration 18: 100%|██████████| 10/10 [00:07<00:00,  1.26population_element/s]\n",
            "iteration 19: 100%|██████████| 10/10 [00:07<00:00,  1.25population_element/s]\n",
            "iteration 20: 100%|██████████| 10/10 [00:07<00:00,  1.25population_element/s]\n",
            "iteration 21: 100%|██████████| 10/10 [00:08<00:00,  1.24population_element/s]\n",
            "iteration 1:   0%|          | 0/10 [00:00<?, ?population_element/s]"
          ],
          "name": "stderr"
        },
        {
          "output_type": "stream",
          "text": [
            "####################### Training agent: 1 ######################\n"
          ],
          "name": "stdout"
        },
        {
          "output_type": "stream",
          "text": [
            "iteration 1: 100%|██████████| 10/10 [00:08<00:00,  1.24population_element/s]\n",
            "iteration 2: 100%|██████████| 10/10 [00:08<00:00,  1.24population_element/s]\n",
            "iteration 3: 100%|██████████| 10/10 [00:07<00:00,  1.26population_element/s]\n",
            "iteration 4: 100%|██████████| 10/10 [00:08<00:00,  1.24population_element/s]\n",
            "iteration 5: 100%|██████████| 10/10 [00:08<00:00,  1.25population_element/s]\n",
            "iteration 6: 100%|██████████| 10/10 [00:08<00:00,  1.25population_element/s]\n",
            "iteration 7: 100%|██████████| 10/10 [00:07<00:00,  1.25population_element/s]\n",
            "iteration 8: 100%|██████████| 10/10 [00:08<00:00,  1.25population_element/s]\n",
            "iteration 9: 100%|██████████| 10/10 [00:08<00:00,  1.25population_element/s]\n",
            "iteration 10: 100%|██████████| 10/10 [00:08<00:00,  1.25population_element/s]\n",
            "iteration 11: 100%|██████████| 10/10 [00:07<00:00,  1.25population_element/s]\n",
            "iteration 12: 100%|██████████| 10/10 [00:08<00:00,  1.25population_element/s]\n",
            "iteration 13: 100%|██████████| 10/10 [00:08<00:00,  1.24population_element/s]\n",
            "iteration 14: 100%|██████████| 10/10 [00:08<00:00,  1.24population_element/s]\n",
            "iteration 15: 100%|██████████| 10/10 [00:08<00:00,  1.24population_element/s]\n",
            "iteration 16: 100%|██████████| 10/10 [00:08<00:00,  1.24population_element/s]\n",
            "iteration 17: 100%|██████████| 10/10 [00:08<00:00,  1.24population_element/s]\n",
            "iteration 18: 100%|██████████| 10/10 [00:08<00:00,  1.24population_element/s]\n",
            "iteration 19: 100%|██████████| 10/10 [00:08<00:00,  1.23population_element/s]\n",
            "iteration 20: 100%|██████████| 10/10 [00:08<00:00,  1.24population_element/s]\n",
            "iteration 21: 100%|██████████| 10/10 [00:08<00:00,  1.25population_element/s]\n",
            "iteration 1:   0%|          | 0/10 [00:00<?, ?population_element/s]"
          ],
          "name": "stderr"
        },
        {
          "output_type": "stream",
          "text": [
            "~~~~~~~~~~~~~~~~~~~~~~~~~~~~~~~~~~~~~~~~~~~~~~~~\n",
            "EPOCHS_TOTAL: 13\n",
            "~~~~~~~~~~~~~~~~~~~~~~~~~~~~~~~~~~~~~~~~~~~~~~~~\n",
            "####################### Training agent: 0 ######################\n"
          ],
          "name": "stdout"
        },
        {
          "output_type": "stream",
          "text": [
            "iteration 1: 100%|██████████| 10/10 [00:08<00:00,  1.23population_element/s]\n",
            "iteration 2: 100%|██████████| 10/10 [00:08<00:00,  1.25population_element/s]\n",
            "iteration 3: 100%|██████████| 10/10 [00:08<00:00,  1.24population_element/s]\n",
            "iteration 4: 100%|██████████| 10/10 [00:08<00:00,  1.24population_element/s]\n",
            "iteration 5: 100%|██████████| 10/10 [00:08<00:00,  1.25population_element/s]\n",
            "iteration 6: 100%|██████████| 10/10 [00:08<00:00,  1.24population_element/s]\n",
            "iteration 7: 100%|██████████| 10/10 [00:07<00:00,  1.26population_element/s]\n",
            "iteration 8: 100%|██████████| 10/10 [00:08<00:00,  1.25population_element/s]\n",
            "iteration 9: 100%|██████████| 10/10 [00:07<00:00,  1.25population_element/s]\n",
            "iteration 10: 100%|██████████| 10/10 [00:07<00:00,  1.25population_element/s]\n",
            "iteration 11: 100%|██████████| 10/10 [00:08<00:00,  1.25population_element/s]\n",
            "iteration 12: 100%|██████████| 10/10 [00:08<00:00,  1.24population_element/s]\n",
            "iteration 13: 100%|██████████| 10/10 [00:08<00:00,  1.23population_element/s]\n",
            "iteration 14: 100%|██████████| 10/10 [00:08<00:00,  1.24population_element/s]\n",
            "iteration 15: 100%|██████████| 10/10 [00:08<00:00,  1.25population_element/s]\n",
            "iteration 16: 100%|██████████| 10/10 [00:08<00:00,  1.23population_element/s]\n",
            "iteration 17: 100%|██████████| 10/10 [00:08<00:00,  1.23population_element/s]\n",
            "iteration 18: 100%|██████████| 10/10 [00:07<00:00,  1.26population_element/s]\n",
            "iteration 19: 100%|██████████| 10/10 [00:08<00:00,  1.23population_element/s]\n",
            "iteration 20: 100%|██████████| 10/10 [00:08<00:00,  1.24population_element/s]\n",
            "iteration 21: 100%|██████████| 10/10 [00:08<00:00,  1.24population_element/s]\n",
            "iteration 1:   0%|          | 0/10 [00:00<?, ?population_element/s]"
          ],
          "name": "stderr"
        },
        {
          "output_type": "stream",
          "text": [
            "####################### Training agent: 1 ######################\n"
          ],
          "name": "stdout"
        },
        {
          "output_type": "stream",
          "text": [
            "iteration 1: 100%|██████████| 10/10 [00:08<00:00,  1.24population_element/s]\n",
            "iteration 2: 100%|██████████| 10/10 [00:08<00:00,  1.24population_element/s]\n",
            "iteration 3: 100%|██████████| 10/10 [00:08<00:00,  1.25population_element/s]\n",
            "iteration 4: 100%|██████████| 10/10 [00:08<00:00,  1.24population_element/s]\n",
            "iteration 5: 100%|██████████| 10/10 [00:08<00:00,  1.25population_element/s]\n",
            "iteration 6: 100%|██████████| 10/10 [00:08<00:00,  1.24population_element/s]\n",
            "iteration 7: 100%|██████████| 10/10 [00:08<00:00,  1.25population_element/s]\n",
            "iteration 8: 100%|██████████| 10/10 [00:08<00:00,  1.24population_element/s]\n",
            "iteration 9: 100%|██████████| 10/10 [00:08<00:00,  1.24population_element/s]\n",
            "iteration 10: 100%|██████████| 10/10 [00:08<00:00,  1.25population_element/s]\n",
            "iteration 11: 100%|██████████| 10/10 [00:08<00:00,  1.25population_element/s]\n",
            "iteration 12: 100%|██████████| 10/10 [00:08<00:00,  1.24population_element/s]\n",
            "iteration 13: 100%|██████████| 10/10 [00:07<00:00,  1.25population_element/s]\n",
            "iteration 14: 100%|██████████| 10/10 [00:08<00:00,  1.24population_element/s]\n",
            "iteration 15: 100%|██████████| 10/10 [00:08<00:00,  1.23population_element/s]\n",
            "iteration 16: 100%|██████████| 10/10 [00:08<00:00,  1.24population_element/s]\n",
            "iteration 17: 100%|██████████| 10/10 [00:07<00:00,  1.25population_element/s]\n",
            "iteration 18: 100%|██████████| 10/10 [00:08<00:00,  1.24population_element/s]\n",
            "iteration 19: 100%|██████████| 10/10 [00:08<00:00,  1.25population_element/s]\n",
            "iteration 20: 100%|██████████| 10/10 [00:07<00:00,  1.26population_element/s]\n",
            "iteration 21: 100%|██████████| 10/10 [00:08<00:00,  1.23population_element/s]\n",
            "iteration 1:   0%|          | 0/10 [00:00<?, ?population_element/s]"
          ],
          "name": "stderr"
        },
        {
          "output_type": "stream",
          "text": [
            "~~~~~~~~~~~~~~~~~~~~~~~~~~~~~~~~~~~~~~~~~~~~~~~~\n",
            "EPOCHS_TOTAL: 14\n",
            "~~~~~~~~~~~~~~~~~~~~~~~~~~~~~~~~~~~~~~~~~~~~~~~~\n",
            "####################### Training agent: 0 ######################\n"
          ],
          "name": "stdout"
        },
        {
          "output_type": "stream",
          "text": [
            "iteration 1: 100%|██████████| 10/10 [00:07<00:00,  1.25population_element/s]\n",
            "iteration 2: 100%|██████████| 10/10 [00:07<00:00,  1.27population_element/s]\n",
            "iteration 3: 100%|██████████| 10/10 [00:07<00:00,  1.27population_element/s]\n",
            "iteration 4: 100%|██████████| 10/10 [00:07<00:00,  1.26population_element/s]\n",
            "iteration 5: 100%|██████████| 10/10 [00:07<00:00,  1.27population_element/s]\n",
            "iteration 6: 100%|██████████| 10/10 [00:07<00:00,  1.27population_element/s]\n",
            "iteration 7: 100%|██████████| 10/10 [00:07<00:00,  1.27population_element/s]\n",
            "iteration 8: 100%|██████████| 10/10 [00:07<00:00,  1.27population_element/s]\n",
            "iteration 9: 100%|██████████| 10/10 [00:07<00:00,  1.27population_element/s]\n",
            "iteration 10: 100%|██████████| 10/10 [00:07<00:00,  1.27population_element/s]\n",
            "iteration 11: 100%|██████████| 10/10 [00:08<00:00,  1.24population_element/s]\n",
            "iteration 12: 100%|██████████| 10/10 [00:07<00:00,  1.26population_element/s]\n",
            "iteration 13: 100%|██████████| 10/10 [00:07<00:00,  1.27population_element/s]\n",
            "iteration 14: 100%|██████████| 10/10 [00:07<00:00,  1.26population_element/s]\n",
            "iteration 15: 100%|██████████| 10/10 [00:07<00:00,  1.26population_element/s]\n",
            "iteration 16: 100%|██████████| 10/10 [00:07<00:00,  1.27population_element/s]\n",
            "iteration 17: 100%|██████████| 10/10 [00:07<00:00,  1.27population_element/s]\n",
            "iteration 18: 100%|██████████| 10/10 [00:07<00:00,  1.26population_element/s]\n",
            "iteration 19: 100%|██████████| 10/10 [00:08<00:00,  1.25population_element/s]\n",
            "iteration 20: 100%|██████████| 10/10 [00:08<00:00,  1.25population_element/s]\n",
            "iteration 21: 100%|██████████| 10/10 [00:07<00:00,  1.26population_element/s]\n",
            "iteration 1:   0%|          | 0/10 [00:00<?, ?population_element/s]"
          ],
          "name": "stderr"
        },
        {
          "output_type": "stream",
          "text": [
            "####################### Training agent: 1 ######################\n"
          ],
          "name": "stdout"
        },
        {
          "output_type": "stream",
          "text": [
            "iteration 1: 100%|██████████| 10/10 [00:07<00:00,  1.26population_element/s]\n",
            "iteration 2: 100%|██████████| 10/10 [00:07<00:00,  1.25population_element/s]\n",
            "iteration 3: 100%|██████████| 10/10 [00:07<00:00,  1.25population_element/s]\n",
            "iteration 4: 100%|██████████| 10/10 [00:07<00:00,  1.27population_element/s]\n",
            "iteration 5: 100%|██████████| 10/10 [00:07<00:00,  1.26population_element/s]\n",
            "iteration 6: 100%|██████████| 10/10 [00:07<00:00,  1.25population_element/s]\n",
            "iteration 7: 100%|██████████| 10/10 [00:08<00:00,  1.25population_element/s]\n",
            "iteration 8: 100%|██████████| 10/10 [00:07<00:00,  1.25population_element/s]\n",
            "iteration 9: 100%|██████████| 10/10 [00:08<00:00,  1.25population_element/s]\n",
            "iteration 10: 100%|██████████| 10/10 [00:08<00:00,  1.24population_element/s]\n",
            "iteration 11: 100%|██████████| 10/10 [00:08<00:00,  1.25population_element/s]\n",
            "iteration 12: 100%|██████████| 10/10 [00:08<00:00,  1.23population_element/s]\n",
            "iteration 13: 100%|██████████| 10/10 [00:08<00:00,  1.25population_element/s]\n",
            "iteration 14: 100%|██████████| 10/10 [00:07<00:00,  1.26population_element/s]\n",
            "iteration 15: 100%|██████████| 10/10 [00:07<00:00,  1.26population_element/s]\n",
            "iteration 16: 100%|██████████| 10/10 [00:07<00:00,  1.26population_element/s]\n",
            "iteration 17: 100%|██████████| 10/10 [00:07<00:00,  1.25population_element/s]\n",
            "iteration 18: 100%|██████████| 10/10 [00:07<00:00,  1.25population_element/s]\n",
            "iteration 19: 100%|██████████| 10/10 [00:08<00:00,  1.25population_element/s]\n",
            "iteration 20: 100%|██████████| 10/10 [00:08<00:00,  1.24population_element/s]\n",
            "iteration 21: 100%|██████████| 10/10 [00:07<00:00,  1.26population_element/s]\n",
            "iteration 1:   0%|          | 0/10 [00:00<?, ?population_element/s]"
          ],
          "name": "stderr"
        },
        {
          "output_type": "stream",
          "text": [
            "~~~~~~~~~~~~~~~~~~~~~~~~~~~~~~~~~~~~~~~~~~~~~~~~\n",
            "EPOCHS_TOTAL: 15\n",
            "~~~~~~~~~~~~~~~~~~~~~~~~~~~~~~~~~~~~~~~~~~~~~~~~\n",
            "####################### Training agent: 0 ######################\n"
          ],
          "name": "stdout"
        },
        {
          "output_type": "stream",
          "text": [
            "iteration 1: 100%|██████████| 10/10 [00:08<00:00,  1.24population_element/s]\n",
            "iteration 2: 100%|██████████| 10/10 [00:08<00:00,  1.24population_element/s]\n",
            "iteration 3: 100%|██████████| 10/10 [00:08<00:00,  1.24population_element/s]\n",
            "iteration 4: 100%|██████████| 10/10 [00:08<00:00,  1.24population_element/s]\n",
            "iteration 5: 100%|██████████| 10/10 [00:07<00:00,  1.26population_element/s]\n",
            "iteration 6: 100%|██████████| 10/10 [00:08<00:00,  1.24population_element/s]\n",
            "iteration 7: 100%|██████████| 10/10 [00:08<00:00,  1.23population_element/s]\n",
            "iteration 8: 100%|██████████| 10/10 [00:08<00:00,  1.23population_element/s]\n",
            "iteration 9: 100%|██████████| 10/10 [00:08<00:00,  1.24population_element/s]\n",
            "iteration 10: 100%|██████████| 10/10 [00:08<00:00,  1.23population_element/s]\n",
            "iteration 11: 100%|██████████| 10/10 [00:08<00:00,  1.22population_element/s]\n",
            "iteration 12: 100%|██████████| 10/10 [00:08<00:00,  1.24population_element/s]\n",
            "iteration 13: 100%|██████████| 10/10 [00:08<00:00,  1.24population_element/s]\n",
            "iteration 14: 100%|██████████| 10/10 [00:08<00:00,  1.24population_element/s]\n",
            "iteration 15: 100%|██████████| 10/10 [00:08<00:00,  1.24population_element/s]\n",
            "iteration 16: 100%|██████████| 10/10 [00:08<00:00,  1.24population_element/s]\n",
            "iteration 17: 100%|██████████| 10/10 [00:08<00:00,  1.24population_element/s]\n",
            "iteration 18: 100%|██████████| 10/10 [00:08<00:00,  1.23population_element/s]\n",
            "iteration 19: 100%|██████████| 10/10 [00:08<00:00,  1.23population_element/s]\n",
            "iteration 20: 100%|██████████| 10/10 [00:08<00:00,  1.23population_element/s]\n",
            "iteration 21: 100%|██████████| 10/10 [00:08<00:00,  1.25population_element/s]\n",
            "iteration 1:   0%|          | 0/10 [00:00<?, ?population_element/s]"
          ],
          "name": "stderr"
        },
        {
          "output_type": "stream",
          "text": [
            "####################### Training agent: 1 ######################\n"
          ],
          "name": "stdout"
        },
        {
          "output_type": "stream",
          "text": [
            "iteration 1: 100%|██████████| 10/10 [00:07<00:00,  1.25population_element/s]\n",
            "iteration 2: 100%|██████████| 10/10 [00:07<00:00,  1.25population_element/s]\n",
            "iteration 3: 100%|██████████| 10/10 [00:07<00:00,  1.26population_element/s]\n",
            "iteration 4: 100%|██████████| 10/10 [00:07<00:00,  1.26population_element/s]\n",
            "iteration 5: 100%|██████████| 10/10 [00:07<00:00,  1.26population_element/s]\n",
            "iteration 6: 100%|██████████| 10/10 [00:07<00:00,  1.26population_element/s]\n",
            "iteration 7: 100%|██████████| 10/10 [00:07<00:00,  1.27population_element/s]\n",
            "iteration 8: 100%|██████████| 10/10 [00:08<00:00,  1.24population_element/s]\n",
            "iteration 9: 100%|██████████| 10/10 [00:08<00:00,  1.24population_element/s]\n",
            "iteration 10: 100%|██████████| 10/10 [00:07<00:00,  1.27population_element/s]\n",
            "iteration 11: 100%|██████████| 10/10 [00:07<00:00,  1.26population_element/s]\n",
            "iteration 12: 100%|██████████| 10/10 [00:08<00:00,  1.25population_element/s]\n",
            "iteration 13: 100%|██████████| 10/10 [00:07<00:00,  1.27population_element/s]\n",
            "iteration 14: 100%|██████████| 10/10 [00:07<00:00,  1.25population_element/s]\n",
            "iteration 15: 100%|██████████| 10/10 [00:07<00:00,  1.26population_element/s]\n",
            "iteration 16: 100%|██████████| 10/10 [00:07<00:00,  1.27population_element/s]\n",
            "iteration 17: 100%|██████████| 10/10 [00:07<00:00,  1.26population_element/s]\n",
            "iteration 18: 100%|██████████| 10/10 [00:07<00:00,  1.26population_element/s]\n",
            "iteration 19: 100%|██████████| 10/10 [00:07<00:00,  1.25population_element/s]\n",
            "iteration 20: 100%|██████████| 10/10 [00:07<00:00,  1.26population_element/s]\n",
            "iteration 21: 100%|██████████| 10/10 [00:07<00:00,  1.26population_element/s]\n",
            "iteration 1:   0%|          | 0/10 [00:00<?, ?population_element/s]"
          ],
          "name": "stderr"
        },
        {
          "output_type": "stream",
          "text": [
            "~~~~~~~~~~~~~~~~~~~~~~~~~~~~~~~~~~~~~~~~~~~~~~~~\n",
            "EPOCHS_TOTAL: 16\n",
            "~~~~~~~~~~~~~~~~~~~~~~~~~~~~~~~~~~~~~~~~~~~~~~~~\n",
            "####################### Training agent: 0 ######################\n"
          ],
          "name": "stdout"
        },
        {
          "output_type": "stream",
          "text": [
            "iteration 1: 100%|██████████| 10/10 [00:07<00:00,  1.26population_element/s]\n",
            "iteration 2: 100%|██████████| 10/10 [00:07<00:00,  1.26population_element/s]\n",
            "iteration 3: 100%|██████████| 10/10 [00:07<00:00,  1.27population_element/s]\n",
            "iteration 4: 100%|██████████| 10/10 [00:07<00:00,  1.28population_element/s]\n",
            "iteration 5: 100%|██████████| 10/10 [00:07<00:00,  1.28population_element/s]\n",
            "iteration 6: 100%|██████████| 10/10 [00:07<00:00,  1.26population_element/s]\n",
            "iteration 7: 100%|██████████| 10/10 [00:07<00:00,  1.27population_element/s]\n",
            "iteration 8: 100%|██████████| 10/10 [00:07<00:00,  1.27population_element/s]\n",
            "iteration 9: 100%|██████████| 10/10 [00:07<00:00,  1.29population_element/s]\n",
            "iteration 10: 100%|██████████| 10/10 [00:07<00:00,  1.27population_element/s]\n",
            "iteration 11: 100%|██████████| 10/10 [00:07<00:00,  1.27population_element/s]\n",
            "iteration 12: 100%|██████████| 10/10 [00:07<00:00,  1.27population_element/s]\n",
            "iteration 13: 100%|██████████| 10/10 [00:07<00:00,  1.27population_element/s]\n",
            "iteration 14: 100%|██████████| 10/10 [00:07<00:00,  1.26population_element/s]\n",
            "iteration 15: 100%|██████████| 10/10 [00:07<00:00,  1.28population_element/s]\n",
            "iteration 16: 100%|██████████| 10/10 [00:07<00:00,  1.28population_element/s]\n",
            "iteration 17: 100%|██████████| 10/10 [00:07<00:00,  1.27population_element/s]\n",
            "iteration 18: 100%|██████████| 10/10 [00:07<00:00,  1.26population_element/s]\n",
            "iteration 19: 100%|██████████| 10/10 [00:07<00:00,  1.26population_element/s]\n",
            "iteration 20: 100%|██████████| 10/10 [00:07<00:00,  1.28population_element/s]\n",
            "iteration 21: 100%|██████████| 10/10 [00:07<00:00,  1.26population_element/s]\n",
            "iteration 1:   0%|          | 0/10 [00:00<?, ?population_element/s]"
          ],
          "name": "stderr"
        },
        {
          "output_type": "stream",
          "text": [
            "####################### Training agent: 1 ######################\n"
          ],
          "name": "stdout"
        },
        {
          "output_type": "stream",
          "text": [
            "iteration 1: 100%|██████████| 10/10 [00:07<00:00,  1.27population_element/s]\n",
            "iteration 2: 100%|██████████| 10/10 [00:07<00:00,  1.27population_element/s]\n",
            "iteration 3: 100%|██████████| 10/10 [00:07<00:00,  1.26population_element/s]\n",
            "iteration 4: 100%|██████████| 10/10 [00:07<00:00,  1.27population_element/s]\n",
            "iteration 5: 100%|██████████| 10/10 [00:08<00:00,  1.25population_element/s]\n",
            "iteration 6: 100%|██████████| 10/10 [00:08<00:00,  1.24population_element/s]\n",
            "iteration 7: 100%|██████████| 10/10 [00:08<00:00,  1.25population_element/s]\n",
            "iteration 8: 100%|██████████| 10/10 [00:07<00:00,  1.26population_element/s]\n",
            "iteration 9: 100%|██████████| 10/10 [00:07<00:00,  1.26population_element/s]\n",
            "iteration 10: 100%|██████████| 10/10 [00:07<00:00,  1.26population_element/s]\n",
            "iteration 11: 100%|██████████| 10/10 [00:07<00:00,  1.27population_element/s]\n",
            "iteration 12: 100%|██████████| 10/10 [00:07<00:00,  1.26population_element/s]\n",
            "iteration 13: 100%|██████████| 10/10 [00:07<00:00,  1.26population_element/s]\n",
            "iteration 14: 100%|██████████| 10/10 [00:07<00:00,  1.25population_element/s]\n",
            "iteration 15: 100%|██████████| 10/10 [00:07<00:00,  1.27population_element/s]\n",
            "iteration 16: 100%|██████████| 10/10 [00:07<00:00,  1.25population_element/s]\n",
            "iteration 17: 100%|██████████| 10/10 [00:08<00:00,  1.25population_element/s]\n",
            "iteration 18: 100%|██████████| 10/10 [00:08<00:00,  1.25population_element/s]\n",
            "iteration 19: 100%|██████████| 10/10 [00:07<00:00,  1.25population_element/s]\n",
            "iteration 20: 100%|██████████| 10/10 [00:07<00:00,  1.26population_element/s]\n",
            "iteration 21: 100%|██████████| 10/10 [00:07<00:00,  1.26population_element/s]\n",
            "iteration 1:   0%|          | 0/10 [00:00<?, ?population_element/s]"
          ],
          "name": "stderr"
        },
        {
          "output_type": "stream",
          "text": [
            "~~~~~~~~~~~~~~~~~~~~~~~~~~~~~~~~~~~~~~~~~~~~~~~~\n",
            "EPOCHS_TOTAL: 17\n",
            "~~~~~~~~~~~~~~~~~~~~~~~~~~~~~~~~~~~~~~~~~~~~~~~~\n",
            "####################### Training agent: 0 ######################\n"
          ],
          "name": "stdout"
        },
        {
          "output_type": "stream",
          "text": [
            "iteration 1: 100%|██████████| 10/10 [00:08<00:00,  1.24population_element/s]\n",
            "iteration 2: 100%|██████████| 10/10 [00:07<00:00,  1.25population_element/s]\n",
            "iteration 3: 100%|██████████| 10/10 [00:07<00:00,  1.25population_element/s]\n",
            "iteration 4: 100%|██████████| 10/10 [00:07<00:00,  1.26population_element/s]\n",
            "iteration 5: 100%|██████████| 10/10 [00:07<00:00,  1.25population_element/s]\n",
            "iteration 6: 100%|██████████| 10/10 [00:08<00:00,  1.25population_element/s]\n",
            "iteration 7: 100%|██████████| 10/10 [00:07<00:00,  1.27population_element/s]\n",
            "iteration 8: 100%|██████████| 10/10 [00:07<00:00,  1.26population_element/s]\n",
            "iteration 9: 100%|██████████| 10/10 [00:08<00:00,  1.24population_element/s]\n",
            "iteration 10: 100%|██████████| 10/10 [00:08<00:00,  1.25population_element/s]\n",
            "iteration 11: 100%|██████████| 10/10 [00:07<00:00,  1.26population_element/s]\n",
            "iteration 12: 100%|██████████| 10/10 [00:08<00:00,  1.25population_element/s]\n",
            "iteration 13: 100%|██████████| 10/10 [00:08<00:00,  1.24population_element/s]\n",
            "iteration 14: 100%|██████████| 10/10 [00:08<00:00,  1.24population_element/s]\n",
            "iteration 15: 100%|██████████| 10/10 [00:08<00:00,  1.24population_element/s]\n",
            "iteration 16: 100%|██████████| 10/10 [00:08<00:00,  1.23population_element/s]\n",
            "iteration 17: 100%|██████████| 10/10 [00:08<00:00,  1.21population_element/s]\n",
            "iteration 18: 100%|██████████| 10/10 [00:08<00:00,  1.23population_element/s]\n",
            "iteration 19: 100%|██████████| 10/10 [00:07<00:00,  1.25population_element/s]\n",
            "iteration 20: 100%|██████████| 10/10 [00:08<00:00,  1.20population_element/s]\n",
            "iteration 21: 100%|██████████| 10/10 [00:08<00:00,  1.18population_element/s]\n",
            "iteration 1:   0%|          | 0/10 [00:00<?, ?population_element/s]"
          ],
          "name": "stderr"
        },
        {
          "output_type": "stream",
          "text": [
            "####################### Training agent: 1 ######################\n"
          ],
          "name": "stdout"
        },
        {
          "output_type": "stream",
          "text": [
            "iteration 1: 100%|██████████| 10/10 [00:08<00:00,  1.18population_element/s]\n",
            "iteration 2: 100%|██████████| 10/10 [00:08<00:00,  1.18population_element/s]\n",
            "iteration 3: 100%|██████████| 10/10 [00:08<00:00,  1.21population_element/s]\n",
            "iteration 4: 100%|██████████| 10/10 [00:08<00:00,  1.23population_element/s]\n",
            "iteration 5: 100%|██████████| 10/10 [00:08<00:00,  1.21population_element/s]\n",
            "iteration 6: 100%|██████████| 10/10 [00:08<00:00,  1.23population_element/s]\n",
            "iteration 7: 100%|██████████| 10/10 [00:08<00:00,  1.20population_element/s]\n",
            "iteration 8: 100%|██████████| 10/10 [00:08<00:00,  1.17population_element/s]\n",
            "iteration 9: 100%|██████████| 10/10 [00:08<00:00,  1.19population_element/s]\n",
            "iteration 10: 100%|██████████| 10/10 [00:08<00:00,  1.18population_element/s]\n",
            "iteration 11: 100%|██████████| 10/10 [00:08<00:00,  1.20population_element/s]\n",
            "iteration 12: 100%|██████████| 10/10 [00:08<00:00,  1.18population_element/s]\n",
            "iteration 13: 100%|██████████| 10/10 [00:08<00:00,  1.23population_element/s]\n",
            "iteration 14: 100%|██████████| 10/10 [00:08<00:00,  1.22population_element/s]\n",
            "iteration 15: 100%|██████████| 10/10 [00:08<00:00,  1.23population_element/s]\n",
            "iteration 16: 100%|██████████| 10/10 [00:08<00:00,  1.23population_element/s]\n",
            "iteration 17: 100%|██████████| 10/10 [00:08<00:00,  1.21population_element/s]\n",
            "iteration 18: 100%|██████████| 10/10 [00:08<00:00,  1.23population_element/s]\n",
            "iteration 19: 100%|██████████| 10/10 [00:08<00:00,  1.23population_element/s]\n",
            "iteration 20: 100%|██████████| 10/10 [00:08<00:00,  1.21population_element/s]\n",
            "iteration 21: 100%|██████████| 10/10 [00:08<00:00,  1.23population_element/s]\n",
            "iteration 1:   0%|          | 0/10 [00:00<?, ?population_element/s]"
          ],
          "name": "stderr"
        },
        {
          "output_type": "stream",
          "text": [
            "~~~~~~~~~~~~~~~~~~~~~~~~~~~~~~~~~~~~~~~~~~~~~~~~\n",
            "EPOCHS_TOTAL: 18\n",
            "~~~~~~~~~~~~~~~~~~~~~~~~~~~~~~~~~~~~~~~~~~~~~~~~\n",
            "####################### Training agent: 0 ######################\n"
          ],
          "name": "stdout"
        },
        {
          "output_type": "stream",
          "text": [
            "iteration 1: 100%|██████████| 10/10 [00:08<00:00,  1.23population_element/s]\n",
            "iteration 2: 100%|██████████| 10/10 [00:08<00:00,  1.24population_element/s]\n",
            "iteration 3: 100%|██████████| 10/10 [00:08<00:00,  1.22population_element/s]\n",
            "iteration 4: 100%|██████████| 10/10 [00:08<00:00,  1.17population_element/s]\n",
            "iteration 5: 100%|██████████| 10/10 [00:08<00:00,  1.15population_element/s]\n",
            "iteration 6: 100%|██████████| 10/10 [00:08<00:00,  1.18population_element/s]\n",
            "iteration 7: 100%|██████████| 10/10 [00:08<00:00,  1.17population_element/s]\n",
            "iteration 8: 100%|██████████| 10/10 [00:08<00:00,  1.21population_element/s]\n",
            "iteration 9: 100%|██████████| 10/10 [00:08<00:00,  1.24population_element/s]\n",
            "iteration 10: 100%|██████████| 10/10 [00:08<00:00,  1.24population_element/s]\n",
            "iteration 11: 100%|██████████| 10/10 [00:08<00:00,  1.22population_element/s]\n",
            "iteration 12: 100%|██████████| 10/10 [00:08<00:00,  1.23population_element/s]\n",
            "iteration 13: 100%|██████████| 10/10 [00:08<00:00,  1.22population_element/s]\n",
            "iteration 14: 100%|██████████| 10/10 [00:08<00:00,  1.22population_element/s]\n",
            "iteration 15: 100%|██████████| 10/10 [00:08<00:00,  1.21population_element/s]\n",
            "iteration 16: 100%|██████████| 10/10 [00:08<00:00,  1.24population_element/s]\n",
            "iteration 17: 100%|██████████| 10/10 [00:08<00:00,  1.24population_element/s]\n",
            "iteration 18: 100%|██████████| 10/10 [00:08<00:00,  1.21population_element/s]\n",
            "iteration 19: 100%|██████████| 10/10 [00:08<00:00,  1.21population_element/s]\n",
            "iteration 20: 100%|██████████| 10/10 [00:08<00:00,  1.22population_element/s]\n",
            "iteration 21: 100%|██████████| 10/10 [00:08<00:00,  1.22population_element/s]\n",
            "iteration 1:   0%|          | 0/10 [00:00<?, ?population_element/s]"
          ],
          "name": "stderr"
        },
        {
          "output_type": "stream",
          "text": [
            "####################### Training agent: 1 ######################\n"
          ],
          "name": "stdout"
        },
        {
          "output_type": "stream",
          "text": [
            "iteration 1: 100%|██████████| 10/10 [00:08<00:00,  1.23population_element/s]\n",
            "iteration 2: 100%|██████████| 10/10 [00:08<00:00,  1.22population_element/s]\n",
            "iteration 3: 100%|██████████| 10/10 [00:07<00:00,  1.25population_element/s]\n",
            "iteration 4: 100%|██████████| 10/10 [00:08<00:00,  1.24population_element/s]\n",
            "iteration 5: 100%|██████████| 10/10 [00:08<00:00,  1.25population_element/s]\n",
            "iteration 6: 100%|██████████| 10/10 [00:08<00:00,  1.24population_element/s]\n",
            "iteration 7: 100%|██████████| 10/10 [00:08<00:00,  1.24population_element/s]\n",
            "iteration 8: 100%|██████████| 10/10 [00:08<00:00,  1.24population_element/s]\n",
            "iteration 9: 100%|██████████| 10/10 [00:08<00:00,  1.23population_element/s]\n",
            "iteration 10: 100%|██████████| 10/10 [00:08<00:00,  1.24population_element/s]\n",
            "iteration 11: 100%|██████████| 10/10 [00:08<00:00,  1.25population_element/s]\n",
            "iteration 12: 100%|██████████| 10/10 [00:08<00:00,  1.23population_element/s]\n",
            "iteration 13: 100%|██████████| 10/10 [00:07<00:00,  1.26population_element/s]\n",
            "iteration 14: 100%|██████████| 10/10 [00:08<00:00,  1.23population_element/s]\n",
            "iteration 15: 100%|██████████| 10/10 [00:08<00:00,  1.25population_element/s]\n",
            "iteration 16: 100%|██████████| 10/10 [00:08<00:00,  1.24population_element/s]\n",
            "iteration 17: 100%|██████████| 10/10 [00:08<00:00,  1.25population_element/s]\n",
            "iteration 18: 100%|██████████| 10/10 [00:08<00:00,  1.23population_element/s]\n",
            "iteration 19: 100%|██████████| 10/10 [00:08<00:00,  1.22population_element/s]\n",
            "iteration 20: 100%|██████████| 10/10 [00:08<00:00,  1.24population_element/s]\n",
            "iteration 21: 100%|██████████| 10/10 [00:08<00:00,  1.24population_element/s]\n",
            "iteration 1:   0%|          | 0/10 [00:00<?, ?population_element/s]"
          ],
          "name": "stderr"
        },
        {
          "output_type": "stream",
          "text": [
            "~~~~~~~~~~~~~~~~~~~~~~~~~~~~~~~~~~~~~~~~~~~~~~~~\n",
            "EPOCHS_TOTAL: 19\n",
            "~~~~~~~~~~~~~~~~~~~~~~~~~~~~~~~~~~~~~~~~~~~~~~~~\n",
            "####################### Training agent: 0 ######################\n"
          ],
          "name": "stdout"
        },
        {
          "output_type": "stream",
          "text": [
            "iteration 1: 100%|██████████| 10/10 [00:08<00:00,  1.23population_element/s]\n",
            "iteration 2: 100%|██████████| 10/10 [00:08<00:00,  1.22population_element/s]\n",
            "iteration 3: 100%|██████████| 10/10 [00:08<00:00,  1.23population_element/s]\n",
            "iteration 4: 100%|██████████| 10/10 [00:08<00:00,  1.24population_element/s]\n",
            "iteration 5: 100%|██████████| 10/10 [00:08<00:00,  1.22population_element/s]\n",
            "iteration 6: 100%|██████████| 10/10 [00:08<00:00,  1.23population_element/s]\n",
            "iteration 7: 100%|██████████| 10/10 [00:08<00:00,  1.23population_element/s]\n",
            "iteration 8: 100%|██████████| 10/10 [00:08<00:00,  1.22population_element/s]\n",
            "iteration 9: 100%|██████████| 10/10 [00:08<00:00,  1.22population_element/s]\n",
            "iteration 10: 100%|██████████| 10/10 [00:08<00:00,  1.22population_element/s]\n",
            "iteration 11: 100%|██████████| 10/10 [00:08<00:00,  1.22population_element/s]\n",
            "iteration 12: 100%|██████████| 10/10 [00:08<00:00,  1.22population_element/s]\n",
            "iteration 13: 100%|██████████| 10/10 [00:08<00:00,  1.22population_element/s]\n",
            "iteration 14: 100%|██████████| 10/10 [00:08<00:00,  1.21population_element/s]\n",
            "iteration 15: 100%|██████████| 10/10 [00:08<00:00,  1.22population_element/s]\n",
            "iteration 16: 100%|██████████| 10/10 [00:08<00:00,  1.22population_element/s]\n",
            "iteration 17: 100%|██████████| 10/10 [00:08<00:00,  1.23population_element/s]\n",
            "iteration 18: 100%|██████████| 10/10 [00:08<00:00,  1.22population_element/s]\n",
            "iteration 19: 100%|██████████| 10/10 [00:08<00:00,  1.23population_element/s]\n",
            "iteration 20: 100%|██████████| 10/10 [00:08<00:00,  1.22population_element/s]\n",
            "iteration 21: 100%|██████████| 10/10 [00:08<00:00,  1.23population_element/s]\n",
            "iteration 1:   0%|          | 0/10 [00:00<?, ?population_element/s]"
          ],
          "name": "stderr"
        },
        {
          "output_type": "stream",
          "text": [
            "####################### Training agent: 1 ######################\n"
          ],
          "name": "stdout"
        },
        {
          "output_type": "stream",
          "text": [
            "iteration 1: 100%|██████████| 10/10 [00:08<00:00,  1.23population_element/s]\n",
            "iteration 2: 100%|██████████| 10/10 [00:08<00:00,  1.25population_element/s]\n",
            "iteration 3: 100%|██████████| 10/10 [00:07<00:00,  1.25population_element/s]\n",
            "iteration 4: 100%|██████████| 10/10 [00:08<00:00,  1.25population_element/s]\n",
            "iteration 5: 100%|██████████| 10/10 [00:07<00:00,  1.26population_element/s]\n",
            "iteration 6: 100%|██████████| 10/10 [00:07<00:00,  1.25population_element/s]\n",
            "iteration 7: 100%|██████████| 10/10 [00:08<00:00,  1.25population_element/s]\n",
            "iteration 8: 100%|██████████| 10/10 [00:07<00:00,  1.25population_element/s]\n",
            "iteration 9: 100%|██████████| 10/10 [00:08<00:00,  1.23population_element/s]\n",
            "iteration 10: 100%|██████████| 10/10 [00:08<00:00,  1.25population_element/s]\n",
            "iteration 11: 100%|██████████| 10/10 [00:07<00:00,  1.26population_element/s]\n",
            "iteration 12: 100%|██████████| 10/10 [00:08<00:00,  1.25population_element/s]\n",
            "iteration 13: 100%|██████████| 10/10 [00:08<00:00,  1.25population_element/s]\n",
            "iteration 14: 100%|██████████| 10/10 [00:07<00:00,  1.25population_element/s]\n",
            "iteration 15: 100%|██████████| 10/10 [00:07<00:00,  1.26population_element/s]\n",
            "iteration 16: 100%|██████████| 10/10 [00:07<00:00,  1.25population_element/s]\n",
            "iteration 17: 100%|██████████| 10/10 [00:08<00:00,  1.24population_element/s]\n",
            "iteration 18: 100%|██████████| 10/10 [00:08<00:00,  1.24population_element/s]\n",
            "iteration 19: 100%|██████████| 10/10 [00:07<00:00,  1.26population_element/s]\n",
            "iteration 20: 100%|██████████| 10/10 [00:07<00:00,  1.25population_element/s]\n",
            "iteration 21: 100%|██████████| 10/10 [00:08<00:00,  1.25population_element/s]\n"
          ],
          "name": "stderr"
        }
      ]
    },
    {
      "cell_type": "code",
      "metadata": {
        "id": "CehwNmUiXT1X",
        "colab": {
          "base_uri": "https://localhost:8080/"
        },
        "outputId": "c0175000-56f1-42d2-f068-61885d36d31b"
      },
      "source": [
        "\n",
        "!tensorboard dev upload --logdir ./log/game/ \\\n",
        "  --name \"MLF - Game Simulation\" \\\n",
        "  --description \"Results from https://github.com/DiegoRenner/Game-Sim-ML-in-Finances-/blob/main/full_tf_model/training_notebook.ipynb\" \\\n",
        "  --one_shot"
      ],
      "id": "CehwNmUiXT1X",
      "execution_count": 5,
      "outputs": [
        {
          "output_type": "stream",
          "text": [
            "2021-06-04 21:14:22.172640: I tensorflow/stream_executor/platform/default/dso_loader.cc:53] Successfully opened dynamic library libcudart.so.11.0\n",
            "\n",
            "***** TensorBoard Uploader *****\n",
            "\n",
            "This will upload your TensorBoard logs to https://tensorboard.dev/ from\n",
            "the following directory:\n",
            "\n",
            "./log/game/\n",
            "\n",
            "This TensorBoard will be visible to everyone. Do not upload sensitive\n",
            "data.\n",
            "\n",
            "Your use of this service is subject to Google's Terms of Service\n",
            "<https://policies.google.com/terms> and Privacy Policy\n",
            "<https://policies.google.com/privacy>, and TensorBoard.dev's Terms of Service\n",
            "<https://tensorboard.dev/policy/terms/>.\n",
            "\n",
            "This notice will not be shown again while you are logged into the uploader.\n",
            "To log out, run `tensorboard dev auth revoke`.\n",
            "\n",
            "Continue? (yes/NO) yes\n",
            "\n",
            "Please visit this URL to authorize this application: https://accounts.google.com/o/oauth2/auth?response_type=code&client_id=373649185512-8v619h5kft38l4456nm2dj4ubeqsrvh6.apps.googleusercontent.com&redirect_uri=urn%3Aietf%3Awg%3Aoauth%3A2.0%3Aoob&scope=openid+https%3A%2F%2Fwww.googleapis.com%2Fauth%2Fuserinfo.email&state=iALjxMXhQVdcfDFzTwRcwvmZwUiysb&prompt=consent&access_type=offline\n",
            "Enter the authorization code: 4/1AY0e-g7Rr5gX4jfWGKSUoIxInumwIG3yEtbhBnua_qYsQNmHj4DSXRnrMEI\n",
            "\n",
            "Data for the \"text\" plugin is now uploaded to TensorBoard.dev! Note that uploaded data is public. If you do not want to upload data for this plugin, use the \"--plugins\" command line argument.\n",
            "\n",
            "New experiment created. View your TensorBoard at: https://tensorboard.dev/experiment/1W0bB6uEQ1uX0libQWkrow/\n",
            "\n",
            "\u001b[1m[2021-06-04T21:21:45]\u001b[0m Started scanning logdir.\n",
            "\u001b[1m[2021-06-04T21:21:46]\u001b[0m Total uploaded: 160 scalars, 1 tensors (6 B), 0 binary objects\n",
            "\u001b[1m[2021-06-04T21:21:46]\u001b[0m Done scanning logdir.\n",
            "\n",
            "\n",
            "Done. View your TensorBoard at https://tensorboard.dev/experiment/1W0bB6uEQ1uX0libQWkrow/\n"
          ],
          "name": "stdout"
        }
      ]
    }
  ]
}